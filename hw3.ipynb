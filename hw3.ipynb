{
 "cells": [
  {
   "cell_type": "markdown",
   "metadata": {},
   "source": [
    "## algorithm design and anlysis-2025 spring  homework 3\n",
    "**Deadline**：2025.5.14\n",
    "\n",
    "**name**:\n",
    "\n",
    "\n",
    "note：\n",
    "---\n",
    "1. 带有\\*的题目，申请免上课的同学，必须完成，其他同学选作；\n",
    "2. 请独立完成，如求助了他人或者大模型，请著明，并且不可省略算法分析部分；\n",
    "4. 如若作答有雷同，全部取消成绩；\n",
    "3. 需要书面作答的题目，可以通过引用图片的形式添加，但是注意上传项目时包含所引用的图片的源文件；\n",
    "4. $log_n$ 默认表示$log_2{n}$;"
   ]
  },
  {
   "cell_type": "markdown",
   "metadata": {},
   "source": [
    "## 问题 1  \n",
    "\n",
    "请证明基于比较的排序算法计算复杂度下界为$\\Omega(nlogn)$"
   ]
  },
  {
   "cell_type": "markdown",
   "metadata": {},
   "source": [
    "you can refer a handwritten picture, pleas upload the picture in /fig/xxx.png\n",
    "answer："
   ]
  },
  {
   "cell_type": "markdown",
   "metadata": {},
   "source": [
    "![问题1](./fig/hw3/问题1.png)"
   ]
  },
  {
   "cell_type": "markdown",
   "metadata": {},
   "source": [
    "## 问题 2 \n",
    "\n",
    "构建二叉搜索树\n",
    "\n",
    "> 1. 给定一个数组 [48, 33, 49, 47, 42, 46, 32], 构建一个二叉搜索树存储这些数据，请**绘制**所构建的**二叉搜索树**（标明结点的值）。\n",
    "> 2. 从第1问的二叉搜索树中删除33，请**绘制**删除33后的**二叉搜索树**（标明结点的值）\n",
    "\n",
    "- 推荐使用graphviz包绘制树的结构"
   ]
  },
  {
   "cell_type": "code",
   "execution_count": null,
   "metadata": {},
   "outputs": [
    {
     "name": "stdout",
     "output_type": "stream",
     "text": [
      "树结构已保存为 hw3_original_tree.png\n",
      "树结构已保存为 hw3_tree_after_deletion.png\n"
     ]
    }
   ],
   "source": [
    "from graphviz import Digraph\n",
    "\n",
    "class TreeNode:\n",
    "    def __init__(self, val):\n",
    "        self.val = val\n",
    "        self.left = None\n",
    "        self.right = None\n",
    "\n",
    "class BST:\n",
    "    def __init__(self):\n",
    "        self.root = None\n",
    "    \n",
    "    def insert(self, val):\n",
    "        self.root = self._insert(self.root, val)\n",
    "    \n",
    "    def _insert(self, root, val):\n",
    "        if not root:\n",
    "            return TreeNode(val)\n",
    "        if val < root.val:\n",
    "            root.left = self._insert(root.left, val)\n",
    "        else:\n",
    "            root.right = self._insert(root.right, val)\n",
    "        return root\n",
    "    \n",
    "    def delete(self, val):\n",
    "        self.root = self._delete(self.root, val)\n",
    "    \n",
    "    def _delete(self, root, val):\n",
    "        if not root:\n",
    "            return root\n",
    "        if val < root.val:\n",
    "            root.left = self._delete(root.left, val)\n",
    "        elif val > root.val:\n",
    "            root.right = self._delete(root.right, val)\n",
    "        else:\n",
    "            # 节点删除逻辑\n",
    "            if not root.left:\n",
    "                return root.right\n",
    "            elif not root.right:\n",
    "                return root.left\n",
    "            else:\n",
    "                # 找到右子树的最小节点替换当前节点\n",
    "                temp = self._find_min(root.right)\n",
    "                root.val = temp.val\n",
    "                root.right = self._delete(root.right, temp.val)\n",
    "        return root\n",
    "    \n",
    "    def _find_min(self, root):\n",
    "        current = root\n",
    "        while current.left:\n",
    "            current = current.left\n",
    "        return current\n",
    "    \n",
    "    def visualize(self, filename):\n",
    "        dot = Digraph()\n",
    "        if self.root:\n",
    "            self._add_nodes_edges(self.root, dot)\n",
    "        dot.render(f'fig/{filename}', format='png', cleanup=True)\n",
    "        print(f\"树结构已保存为 {filename}.png\")\n",
    "\n",
    "    def _add_nodes_edges(self, node, dot):\n",
    "        dot.node(str(node.val))\n",
    "        if node.left:\n",
    "            dot.edge(str(node.val), str(node.left.val))\n",
    "            self._add_nodes_edges(node.left, dot)\n",
    "        if node.right:\n",
    "            dot.edge(str(node.val), str(node.right.val))\n",
    "            self._add_nodes_edges(node.right, dot)\n",
    "\n",
    "# 构建初始二叉搜索树\n",
    "bst = BST()\n",
    "data = [48, 33, 49, 47, 42, 46, 32]\n",
    "for num in data:\n",
    "    bst.insert(num)\n",
    "bst.visualize(\"hw3_original_tree\")\n",
    "\n",
    "# 删除节点 33\n",
    "bst.delete(33)\n",
    "bst.visualize(\"hw3_tree_after_deletion\")"
   ]
  },
  {
   "cell_type": "markdown",
   "metadata": {},
   "source": [
    "you can refer a handwritten picture, pleas upload the picture in /fig/xxx.png\n",
    "answer："
   ]
  },
  {
   "cell_type": "markdown",
   "metadata": {},
   "source": [
    "![问题2](./fig/hw3/问题2.png)"
   ]
  },
  {
   "cell_type": "markdown",
   "metadata": {},
   "source": [
    "## 问题 3 \n",
    "\n",
    "> 下面是九门课程的开始和结束时间:\n",
    ">\n",
    "> [(9:00,12:30), (11:00,14:00), (13:00, 14:30), (9:00,10:30),(13:00, 14:30),(14:00,16:30), (15:00,16:30), (15:00,16:30), (9:00,10:30)]\n",
    ">\n",
    "> 请使用贪婪算法为这九门课分配教室，要求在同一天内安排这些课，并且每个教室同一时间只能安排一门课。\n",
    "\n",
    "**请问最少需要几间教室，罗列出每个教室安排的课程**"
   ]
  },
  {
   "cell_type": "markdown",
   "metadata": {},
   "source": [
    "idea：参考大模型"
   ]
  },
  {
   "cell_type": "markdown",
   "metadata": {},
   "source": [
    "### 算法分析\n",
    "使用贪婪算法解决这个问题：\n",
    "1. 将所有课程按照结束时间排序\n",
    "2. 依次为每个教室安排尽可能多的课程\n",
    "3. 对于每个教室，选择当前结束时间最早且不与已安排课程冲突的课程"
   ]
  },
  {
   "cell_type": "markdown",
   "metadata": {},
   "source": [
    "code："
   ]
  },
  {
   "cell_type": "code",
   "execution_count": 12,
   "metadata": {},
   "outputs": [
    {
     "name": "stdout",
     "output_type": "stream",
     "text": [
      "最少需要 3 间教室\n",
      "\n",
      "教室 1 的安排:\n",
      "课程 4: 9:00 - 10:30\n",
      "课程 2: 11:00 - 14:00\n",
      "课程 6: 14:00 - 16:30\n",
      "\n",
      "教室 2 的安排:\n",
      "课程 9: 9:00 - 10:30\n",
      "课程 3: 13:00 - 14:30\n",
      "课程 7: 15:00 - 16:30\n",
      "\n",
      "教室 3 的安排:\n",
      "课程 1: 9:00 - 12:30\n",
      "课程 5: 13:00 - 14:30\n",
      "课程 8: 15:00 - 16:30\n"
     ]
    }
   ],
   "source": [
    "from collections import defaultdict\n",
    "import heapq\n",
    "\n",
    "def parse_courses(courses_str):\n",
    "    # 移除所有空格和换行符\n",
    "    courses_str = courses_str.replace(' ', '').replace('\\n', '')\n",
    "    # 移除最外层的方括号\n",
    "    courses_str = courses_str.strip('[]')\n",
    "    # 分割每个课程时间对\n",
    "    courses_items = courses_str.split('),(')\n",
    "    # 处理第一个和最后一个元素\n",
    "    courses_items[0] = courses_items[0].lstrip('(')\n",
    "    courses_items[-1] = courses_items[-1].rstrip(')')\n",
    "    \n",
    "    courses = []\n",
    "    for item in courses_items:\n",
    "        start_str, end_str = item.split(',')\n",
    "        courses.append((start_str, end_str))\n",
    "    return courses\n",
    "\n",
    "def schedule_courses(courses):\n",
    "    # 将时间转换为分钟数，便于比较\n",
    "    courses_minutes = []\n",
    "    for i, (start, end) in enumerate(courses):\n",
    "        start_parts = start.split(':')\n",
    "        end_parts = end.split(':')\n",
    "        start_minutes = int(start_parts[0]) * 60 + int(start_parts[1])\n",
    "        end_minutes = int(end_parts[0]) * 60 + int(end_parts[1])\n",
    "        courses_minutes.append((start_minutes, end_minutes, i))\n",
    "    \n",
    "    # 按开始时间排序\n",
    "    courses_minutes.sort()\n",
    "    \n",
    "    # 使用优先队列跟踪当前正在进行的课程\n",
    "    rooms = []\n",
    "    room_assignments = defaultdict(list)\n",
    "    room_count = 0\n",
    "    \n",
    "    for start, end, course_idx in courses_minutes:\n",
    "        # 检查是否有可用的教室\n",
    "        if rooms and rooms[0][0] <= start:\n",
    "            # 使用最早结束的教室\n",
    "            _, room_idx = heapq.heappop(rooms)\n",
    "            heapq.heappush(rooms, (end, room_idx))\n",
    "            room_assignments[room_idx].append((course_idx, start, end))\n",
    "        else:\n",
    "            # 需要新教室\n",
    "            room_count += 1\n",
    "            heapq.heappush(rooms, (end, room_count))\n",
    "            room_assignments[room_count].append((course_idx, start, end))\n",
    "    \n",
    "    print(f\"最少需要 {room_count} 间教室\")\n",
    "    for room in range(1, room_count + 1):\n",
    "        print(f\"\\n教室 {room} 的安排:\")\n",
    "        for course_idx, start, end in sorted(room_assignments[room], key=lambda x: x[1]):\n",
    "            original_interval = courses[course_idx]\n",
    "            print(f\"课程 {course_idx + 1}: {original_interval[0]} - {original_interval[1]}\")\n",
    "    \n",
    "    return room_assignments\n",
    "\n",
    "if __name__ == \"__main__\":\n",
    "    courses_str = \"[(9:00,12:30), (11:00,14:00), (13:00,14:30), (9:00,10:30), (13:00,14:30), (14:00,16:30), (15:00,16:30), (15:00,16:30), (9:00,10:30)]\"\n",
    "    courses = parse_courses(courses_str)\n",
    "    classrooms = schedule_courses(courses)"
   ]
  },
  {
   "cell_type": "markdown",
   "metadata": {},
   "source": [
    "## 问题 4 \n",
    "\n",
    "> 爬楼梯问题：假设爬楼梯时你每次只能爬一阶或者爬两阶，问爬上n阶的楼梯，你一共有多少种方法\n",
    "\n",
    "请设计算法完成该问题，分析算法设计思路，计算时间复杂度，并基于python编程实现"
   ]
  },
  {
   "cell_type": "markdown",
   "metadata": {},
   "source": [
    "idea："
   ]
  },
  {
   "cell_type": "markdown",
   "metadata": {},
   "source": [
    "### 算法分析\n",
    "这个问题可以通过动态规划来解决。\n",
    "定义一个数组`dp`，其中`dp[i]`表示爬到第i阶的方法总数。\n",
    "- 如果只有一阶楼梯，只有一种方法，即爬一阶：`dp[1]=1`\n",
    "- 如果有两阶楼梯，有两种方法：爬一阶两次或者直接爬两阶：`dp[2]=2`\n",
    "对于i≥3爬到i阶的方法可以通过一下两种方式得到：\n",
    "1. 从第i-1阶爬一阶到达第i阶。\n",
    "2. 从第i-2阶爬两阶到达第i阶。\n",
    "因此，递推公式为：   `dp[i]=dp[i−1]+dp[i−2]`"
   ]
  },
  {
   "cell_type": "code",
   "execution_count": 13,
   "metadata": {},
   "outputs": [
    {
     "name": "stdout",
     "output_type": "stream",
     "text": [
      "爬上 5 阶楼梯的方法总数是: 8\n"
     ]
    }
   ],
   "source": [
    "# add your code here\n",
    "# your algorithm time complexity is: O(n)\n",
    "def climb_stairs(n):\n",
    "    if n <= 2:\n",
    "        return n\n",
    "    \n",
    "    dp = [0] * (n + 1)\n",
    "    dp[1], dp[2] = 1, 2\n",
    "    \n",
    "    for i in range(3, n + 1):\n",
    "        dp[i] = dp[i - 1] + dp[i - 2]\n",
    "    \n",
    "    return dp[n]\n",
    "\n",
    "# 示例\n",
    "n = 5\n",
    "print(f\"爬上 {n} 阶楼梯的方法总数是: {climb_stairs(n)}\")"
   ]
  },
  {
   "cell_type": "markdown",
   "metadata": {},
   "source": [
    "## 问题 5 \n",
    "\n",
    "> 0-1背包问题：现在有4块大理石，每个大理石对应的重量和价值使用一个元组表示, 即（重量，价值），4块大理石的重量和价值为：[(5,10), (4,40), (6,30), (3, 50)], 假设你有一辆最大承重为9的小推车，请问使用这个小推车装大理石的最大价值为多少\n",
    "\n",
    "请设计一个算法解决该问题，分析算法设计思路，计算时间复杂度，并基于python编程实现"
   ]
  },
  {
   "cell_type": "markdown",
   "metadata": {},
   "source": [
    "idea："
   ]
  },
  {
   "cell_type": "markdown",
   "metadata": {},
   "source": [
    "### 算法设计思路\n",
    "可以使用动态规划算法来解决这个问题：\n",
    "1. 创建一个二维数组`dp[i][j]`，其中`i`表示考虑前`i`个物品，`j`表示背包容量为`j`时的最大价值\n",
    "2. 对于每个物品，我们有两种选择：放入或不放入\n",
    "3. 状态转移方程为：`dp[i][j] = max(dp[i-1][j], dp[i-1][j-weight[i]] + value[i])`\n",
    "4. 时间复杂度为O(nW)，其中n是物品数量，W是背包容量"
   ]
  },
  {
   "cell_type": "code",
   "execution_count": 1,
   "metadata": {},
   "outputs": [
    {
     "name": "stdout",
     "output_type": "stream",
     "text": [
      "最大价值: 90\n",
      "选择的物品索引: [3, 1]\n",
      "选择的物品详情:\n",
      "物品 4: 重量=3, 价值=50\n",
      "物品 2: 重量=4, 价值=40\n"
     ]
    }
   ],
   "source": [
    "# add your code here\n",
    "# your algorithm time complexity is:O(nW)\n",
    "def knapsack_0_1(items, capacity):\n",
    "    n = len(items)\n",
    "    dp = [[0 for _ in range(capacity + 1)] for _ in range(n + 1)]\n",
    "    \n",
    "    for i in range(1, n + 1):\n",
    "        weight, value = items[i-1]\n",
    "        for j in range(capacity + 1):\n",
    "            if weight <= j:\n",
    "                dp[i][j] = max(dp[i-1][j], dp[i-1][j-weight] + value)\n",
    "            else:\n",
    "                dp[i][j] = dp[i-1][j]\n",
    "    \n",
    "    # 找出选择了哪些物品\n",
    "    selected_items = []\n",
    "    j = capacity\n",
    "    for i in range(n, 0, -1):\n",
    "        if dp[i][j] != dp[i-1][j]:\n",
    "            selected_items.append(i-1)\n",
    "            j -= items[i-1][0]\n",
    "    \n",
    "    return dp[n][capacity], selected_items\n",
    "\n",
    "# 测试\n",
    "items = [(5, 10), (4, 40), (6, 30), (3, 50)]\n",
    "capacity = 9\n",
    "max_value, selected = knapsack_0_1(items, capacity)\n",
    "\n",
    "print(f\"最大价值: {max_value}\")\n",
    "print(f\"选择的物品索引: {selected}\")\n",
    "print(\"选择的物品详情:\")\n",
    "for idx in selected:\n",
    "    print(f\"物品 {idx+1}: 重量={items[idx][0]}, 价值={items[idx][1]}\")"
   ]
  },
  {
   "cell_type": "markdown",
   "metadata": {},
   "source": [
    "## 问题 6 \n",
    "给定 `n` 个非负整数表示每个宽度为 `1` 的柱子的高度图，计算按此排列的柱子，下雨之后能接多少雨水。\n",
    "\n",
    "\n",
    "\n",
    "<div style=\"text-align:center;width:800px;\"> <img alt=\"\" src=\"./fig/hw3q6.png\"> </div>\n",
    "\n",
    "请分析算法设计思路，计算时间复杂度，并基于python编程实现"
   ]
  },
  {
   "cell_type": "markdown",
   "metadata": {},
   "source": [
    "idea："
   ]
  },
  {
   "cell_type": "markdown",
   "metadata": {},
   "source": [
    "### 算法设计思路\n",
    "1. 对于每个位置i，能接的雨水量取决于这个位置左右两边最高柱子的较小值与当前位置高度的差值\n",
    "2. 可以使用双指针的方法来解决这个问题\n",
    "3. 维护两个指针`left`和`right`，以及两个变量`leftMax`和`rightMax`记录左右两边的最大高度\n",
    "4. 从两端向中间移动，根据`leftMax`和`rightMax`的大小关系决定从哪边移动\n",
    "\n",
    "### 时间复杂度\n",
    "O(n),只需要遍历一次数组"
   ]
  },
  {
   "cell_type": "code",
   "execution_count": 3,
   "metadata": {},
   "outputs": [
    {
     "name": "stdout",
     "output_type": "stream",
     "text": [
      "能接的雨水量: 9\n"
     ]
    }
   ],
   "source": [
    "# add your code here\n",
    "# your algorithm time complexity is:O(n)\n",
    "\n",
    "def rainfall_amount(height):\n",
    "    if not height:\n",
    "        return 0\n",
    "    \n",
    "    left, right = 0, len(height) - 1\n",
    "    left_max, right_max = 0, 0\n",
    "    water = 0\n",
    "\n",
    "    while left < right:\n",
    "        left_max = max(left_max, height[left])\n",
    "        right_max = max(right_max, height[right])\n",
    "\n",
    "        if left_max < right_max:\n",
    "            water += left_max - height[left]\n",
    "            left += 1\n",
    "        else:\n",
    "            water += right_max - height[right]\n",
    "            right -= 1\n",
    "\n",
    "    return water\n",
    "\n",
    "# height = [0,1,0,2,1,0,1,3,2,1,2,1]\n",
    "height = [4,2,0,3,2,5]\n",
    "print(f\"能接的雨水量: {rainfall_amount(height)}\")"
   ]
  },
  {
   "cell_type": "markdown",
   "metadata": {},
   "source": [
    "## 问题 7 \n",
    "\n",
    "**股票投资组合优化**： 假设你是一位投资者，想要在不同的股票中分配你的资金，以最大化你的投资回报。每只股票都有不同的预期收益率和风险。你的目标是选择一些股票，使得总投资金额不超过你的预算，并且预期收益最大化。\n",
    "\n",
    "在这个情况下，你可以将每只股票视为一个“物品”，其重量为投资金额，价值为预期收益率。然后，你可以使用分级背包问题的方法来选择部分股票，以便在预算内获得最大的预期收益。\n",
    "\n",
    "以下是一个简化的例子：\n",
    "\n",
    "假设你有以下三只股票可供选择：\n",
    "\n",
    "1. 股票 A：投资金额 5000 美元，预期收益率 10%\n",
    "2. 股票 B：投资金额 3000 美元，预期收益率 8%\n",
    "3. 股票 C：投资金额 2000 美元，预期收益率 12%\n",
    "\n",
    "请设计算法找到最优投资方案，分析算法设计思路，计算时间复杂度，并基于python编程实现"
   ]
  },
  {
   "cell_type": "markdown",
   "metadata": {},
   "source": [
    "idea："
   ]
  },
  {
   "cell_type": "markdown",
   "metadata": {},
   "source": [
    "### 算法设计思路\n",
    "1. 计算每只股票的单位投资金额的收益率\n",
    "2. 按照单位收益率从高到低对股票进行排序\n",
    "3. 从收益率最高的股票开始投资，直到达到预算限制\n",
    "\n",
    "### 时间复杂度\n",
    "- 排序操作：O(nlogn)\n",
    "- 分配投资：O(n)\n",
    "- 总时间复杂度：O(nlogn)"
   ]
  },
  {
   "cell_type": "code",
   "execution_count": 8,
   "metadata": {},
   "outputs": [
    {
     "name": "stdout",
     "output_type": "stream",
     "text": [
      "最优投资方案:\n",
      "股票C: 2000.00 美元 (收益率: 12%)\n",
      "股票A: 5000.00 美元 (收益率: 10%)\n",
      "股票B: 1000.00 美元 (收益率: 8%)\n",
      "最大预期收益: 820.00 美元\n"
     ]
    }
   ],
   "source": [
    "# add your code here\n",
    "# your algorithm time complexity is:O(nlogn)\n",
    "\n",
    "class Stock:\n",
    "    def __init__(self, name, amount, rate):\n",
    "        self.name = name\n",
    "        self.amount = amount\n",
    "        self.rate = rate\n",
    "\n",
    "def max_profit(stocks, budget):\n",
    "    if budget <= 0 or not stocks:\n",
    "        return {}, 0\n",
    "    \n",
    "    # 直接按照收益率排序\n",
    "    sorted_stocks = sorted(stocks, key=lambda x: x.rate, reverse=True)\n",
    "\n",
    "    total_profit = 0\n",
    "    investments = {}\n",
    "    remaining_budget = budget\n",
    "\n",
    "    for stock in sorted_stocks:\n",
    "        if remaining_budget <= 0:\n",
    "            break\n",
    "\n",
    "        invest_amount = min(stock.amount, remaining_budget)\n",
    "        return_amount = invest_amount * (stock.rate/100)\n",
    "\n",
    "        investments[stock.name] = invest_amount\n",
    "        total_profit += return_amount\n",
    "        remaining_budget -= invest_amount\n",
    "\n",
    "    return investments, total_profit\n",
    "\n",
    "# 测试代码\n",
    "stocks = [\n",
    "    Stock(\"A\", 5000, 10),\n",
    "    Stock(\"B\", 3000, 8),\n",
    "    Stock(\"C\", 2000, 12)\n",
    "]\n",
    "\n",
    "budget = 8000\n",
    "\n",
    "investments, total_profit = max_profit(stocks, budget)\n",
    "\n",
    "print(\"最优投资方案:\")\n",
    "for stock_name, amount in investments.items():\n",
    "    stock = next(s for s in stocks if s.name == stock_name)\n",
    "    print(f\"股票{stock_name}: {amount:.2f} 美元 (收益率: {stock.rate}%)\")\n",
    "\n",
    "print(f\"最大预期收益: {total_profit:.2f} 美元\")"
   ]
  },
  {
   "cell_type": "markdown",
   "metadata": {},
   "source": [
    "## 问题 8\n",
    "\n",
    "给你二叉搜索树的根节点 root ，该树中的恰好两个节点的值被错误地交换。请在不改变其结构的情况下，恢复这棵树 。设计算法解决该问题，分析算法设计思路，计算时间复杂度，并基于python编程实现\n",
    "\n",
    "e.g.:\n",
    "---\n",
    "1.\n",
    "\n",
    "<div style=\"text-align:center;width:200px;\"> <img alt=\"\" src=\"./fig/hw3q9-1.jpg\"> </div>\n",
    "输入：root = [1,3,null,null,2]， 输出为：[3,1,null,null,2]， \n",
    "\n",
    "解释：3 不能是 1 的左孩子，因为 3 > 1 。交换 1 和 3 使二叉搜索树有效。\n",
    "\n",
    "2.\n",
    "\n",
    " <div style=\"text-align:center;width:200px;\"> <img alt=\"\" src=\"./fig/hw3q9-1.jpg\"> </div>\n",
    "输入： root=[3,1,4,null,null,2]， 输出为：[2,1,4,null,null,3]\n",
    "\n",
    "解释：2 不能在 3 的右子树中，因为 2 < 3 。交换 2 和 3 使二叉搜索树有效。"
   ]
  },
  {
   "cell_type": "markdown",
   "metadata": {},
   "source": [
    "idea：\n"
   ]
  },
  {
   "cell_type": "markdown",
   "metadata": {},
   "source": [
    "### 算法设计思路\n",
    "二叉搜索树的中序遍历应该是一个递增序列。当有两个节点被错误交换后，中序遍历序列中会出现1-2个位置的值不符合升序规则。\n",
    "算法步骤；\n",
    "1. 通过中序遍历找到不满足升序条件的两个节点。\n",
    "2. 交换这两个节点的值来恢复二叉搜索树\n",
    "3. 可能有两种情况：\n",
    "    - 被交换的节点相邻：序列中只有一个降序点\n",
    "    - 被交换的节点不相邻：序列中有两个降序点\n",
    "\n",
    "### 时间复杂度\n",
    "O(n)，需要遍历所有节点  "
   ]
  },
  {
   "cell_type": "code",
   "execution_count": 5,
   "metadata": {},
   "outputs": [
    {
     "name": "stdout",
     "output_type": "stream",
     "text": [
      "输入： [3, 2, 1]\n",
      "输出： [1, 2, 3]\n"
     ]
    }
   ],
   "source": [
    "# 时间复杂度：O(n)，只需一次中序遍历\n",
    "\n",
    "class TreeNode:\n",
    "    def __init__(self, val=0, left=None, right=None):\n",
    "        self.val = val\n",
    "        self.left = left\n",
    "        self.right = right\n",
    "\n",
    "class BST:\n",
    "    def recoverTree(self, root):\n",
    "        self.first = None\n",
    "        self.second = None \n",
    "        self.prev = TreeNode(float('-inf')) \n",
    "        \n",
    "        def inorder(node):\n",
    "            if not node:\n",
    "                return\n",
    "            \n",
    "            inorder(node.left)\n",
    "            \n",
    "            # 检查当前节点是否违反二叉搜索树特性\n",
    "            if self.prev.val >= node.val:\n",
    "                if not self.first:\n",
    "                    self.first = self.prev\n",
    "\n",
    "                self.second = node\n",
    "            \n",
    "            self.prev = node\n",
    "            \n",
    "            inorder(node.right)\n",
    "        \n",
    "        inorder(root)\n",
    "\n",
    "        self.first.val, self.second.val = self.second.val, self.first.val\n",
    "\n",
    "def print_inorder(root):\n",
    "    result = []\n",
    "    \n",
    "    def inorder(node):\n",
    "        if node:\n",
    "            inorder(node.left)\n",
    "            result.append(node.val)\n",
    "            inorder(node.right)\n",
    "    \n",
    "    inorder(root)\n",
    "    return result\n",
    "\n",
    "# [1,3,null,null,2] -> [3,1,null,null,2]\n",
    "root1 = TreeNode(1)\n",
    "root1.left = TreeNode(3)\n",
    "root1.left.right = TreeNode(2)\n",
    "\n",
    "print(\"输入：\", print_inorder(root1))\n",
    "BST().recoverTree(root1)\n",
    "print(\"输出：\", print_inorder(root1))\n",
    "\n",
    "# [3,1,4,null,null,2] -> [2,1,4,null,null,3]\n",
    "# root2 = TreeNode(3)\n",
    "# root2.left = TreeNode(1)\n",
    "# root2.right = TreeNode(4)\n",
    "# root2.right.left = TreeNode(2)\n",
    "\n",
    "# print(\"输入：\", print_inorder(root2))\n",
    "# BST().recoverTree(root2)\n",
    "# print(\"输出：\", print_inorder(root2))"
   ]
  },
  {
   "cell_type": "markdown",
   "metadata": {},
   "source": [
    "## 问题 9  \n",
    "\n",
    "给你一个二叉树的根节点 root ，树中每个节点都存放有一个 0 到 9 之间的数字。每条从根节点到叶节点的路径都代表一个数字：\n",
    "\n",
    "> 例如，从根节点到叶节点的路径 1 -> 2 -> 3 表示数字 123 。\n",
    "\n",
    "设计一个算法计算从根节点到叶节点生成的所有数字之和 ，分析算法设计思路，计算时间复杂度，并基于python编程实现\n",
    "\n",
    "叶节点:是指没有子节点的节点。\n",
    "\n",
    "e.g.:\n",
    "---\n",
    "1.\n",
    "\n",
    " <div style=\"text-align:center;width:200px;\"> <img alt=\"figure\" src=\"./fig/hw3q10-1.jpg\"> </div>\n",
    "\n",
    " 输入：root = [1,2,3], 输出：25\n",
    "\n",
    "解释：从根到叶子节点路径 1->2 代表数字 12，1->3 代表数字 13，因此和为 12 + 13 = 25 。\n",
    "\n",
    "2.\n",
    "\n",
    " <div style=\"text-align:center;width:200px;\"> <img alt=\"figure\" src=\"./fig/hw3q10-2.jpg\"> </div>\n",
    "\n",
    " 输入：root = [4,9,0,5,1], 输出：1026\n",
    "\n",
    "解释：从根到叶子节点路径 4->9->5 代表数字 495，4->9->1 代表数字 491，4->0 代表数字 40。因此和为 495 + 491 + 40 = 1026 。"
   ]
  },
  {
   "cell_type": "markdown",
   "metadata": {},
   "source": [
    "### 算法设计思路\n",
    "该题可以使用深度优先搜索来解决：\n",
    "1. 使用递归方式遍历二叉树\n",
    "2. 在遍历过程中，维护一个变量`current_num`代表从根节点到当前节点形成的数字\n",
    "3. 当遇到叶节点时，将当前路径形成的数字加入总和\n",
    "4. 对于非叶节点，递归处理其左右子树，并将结果相加\n",
    "\n",
    "### 时间复杂度\n",
    "对于树中的每个节点，仅需访问一次，因此时间复杂度为O(n)"
   ]
  },
  {
   "cell_type": "code",
   "execution_count": 7,
   "metadata": {},
   "outputs": [
    {
     "name": "stdout",
     "output_type": "stream",
     "text": [
      "示例1结果: 25\n",
      "示例2结果: 1026\n"
     ]
    }
   ],
   "source": [
    "# add your code here\n",
    "# your algorithm time complexity is:O(n)\n",
    "\n",
    "class TreeNode:\n",
    "    def __init__(self, val=0, left=None, right=None):\n",
    "        self.val = val\n",
    "        self.left = left\n",
    "        self.right = right\n",
    "\n",
    "def sum(root):\n",
    "    def dfs(node, current_num):\n",
    "        if not node:\n",
    "            return 0\n",
    "        \n",
    "        current_num = current_num * 10 + node.val\n",
    "        \n",
    "        if not node.left and not node.right:\n",
    "            return current_num\n",
    "        \n",
    "        return dfs(node.left, current_num) + dfs(node.right, current_num)\n",
    "    \n",
    "    return dfs(root, 0)\n",
    "    \n",
    "\n",
    "# 测试[1,2,3]\n",
    "root1 = TreeNode(1)\n",
    "root1.left = TreeNode(2)\n",
    "root1.right = TreeNode(3)\n",
    "print(f\"示例1结果: {sum(root1)}\")\n",
    "\n",
    "# 测试[4,9,0,5,1]\n",
    "root2 = TreeNode(4)\n",
    "root2.left = TreeNode(9)\n",
    "root2.right = TreeNode(0)\n",
    "root2.left.left = TreeNode(5)\n",
    "root2.left.right = TreeNode(1)\n",
    "print(f\"示例2结果: {sum(root2)}\")"
   ]
  },
  {
   "cell_type": "markdown",
   "metadata": {},
   "source": [
    "## 问题 10  \n",
    "\n",
    "给你一个二叉树的根节点 root ， 检查它是否轴对称。\n",
    "\n",
    "1. 分析算法设计思路，计算时间复杂度，并基于python编程实现\n",
    "2. \\* 设计使用递归和迭代两种方法解决这个问题，计算时间复杂度，并基于python编程实现\n",
    "\n",
    "e.g.:\n",
    "---\n",
    "1.\n",
    "\n",
    " <div style=\"text-align:center;width:200px;\"> <img alt=\"figure\" src=\"./fig/hw3q11-1.png\"> </div>\n",
    "\n",
    " 输入：root = [1,2,2,3,4,4,3]， 输出：true\n",
    "\n",
    "解释：二叉树 [1,2,2,3,4,4,3] 对称。\n",
    "\n",
    "2.\n",
    "\n",
    " <div style=\"text-align:center;width:200px;\"> <img alt=\"figure\" src=\"./fig/hw3q11-2.png\"> </div>\n",
    "\n",
    " 输入：root = [1,2,2,null,3,null,3]， 输出：false"
   ]
  },
  {
   "cell_type": "markdown",
   "metadata": {},
   "source": [
    "idea"
   ]
  },
  {
   "cell_type": "markdown",
   "metadata": {},
   "source": [
    "### 递归\n",
    "二叉树的对称性可以归结为检查根节点的左子树和右子树是否互为镜像  \n",
    "- 设计思路：\n",
    "    - 两棵树互为镜像意味着它们的根节点值相同\n",
    "    - 左树的左子树与右树的右子树互为镜像\n",
    "    - 左树的右子树与左子树互为镜像\n",
    "- 递归终止条件：\n",
    "    - 如果两个节点都为空，返回true\n",
    "    - 如果只有一个节点为空，返回false\n",
    "    - 如果两个节点值不同，返回false\n",
    "- **时间复杂度**：O(n)，每个节点只访问一次\n",
    "\n",
    "### 迭代\n",
    "使用队列实现广度优先搜索，同时比较对称位置的节点\n",
    "- 设计思路：\n",
    "    - 初始时将根节点的左右子树入队\n",
    "    - 每次从队列取出两个节点进行比较‘\n",
    "    - 如果它们相同，则将左节点的左子节点与右节点的右子节点入队\n",
    "    - 同时将左节点的右子节点与右节点的左子节点入队\n",
    "- 判断条件：\n",
    "    - 两节点都为空：继续检查队列中其他节点\n",
    "    - 有一个节点为空或值不同：树不对称，返回false\n",
    "    - 队列为空且没有返回false:树对称，返回true\n",
    "- **时间复杂度**:O(n),需要访问所有节点"
   ]
  },
  {
   "cell_type": "code",
   "execution_count": 6,
   "metadata": {},
   "outputs": [
    {
     "name": "stdout",
     "output_type": "stream",
     "text": [
      "1 (递归方法): True\n",
      "1 (迭代方法): True\n",
      "2 (递归方法): False\n",
      "2 (迭代方法): False\n"
     ]
    }
   ],
   "source": [
    "# add your code here\n",
    "# your algorithm time complexity is:O(n)\n",
    "\n",
    "class TreeNode:\n",
    "    def __init__(self, val=0, left=None, right=None):\n",
    "        self.val = val\n",
    "        self.left = left\n",
    "        self.right = right\n",
    "\n",
    "# 递归\n",
    "def is_symmetric_recursive(root):\n",
    "    if not root:\n",
    "        return True\n",
    "    \n",
    "    def is_mirror(left, right):\n",
    "        if not left and not right:\n",
    "            return True\n",
    "\n",
    "        if not left or not right:\n",
    "            return False\n",
    "\n",
    "        if left.val != right.val:\n",
    "            return False\n",
    "\n",
    "        return is_mirror(left.left, right.right) and is_mirror(left.right, right.left)\n",
    "    \n",
    "    return is_mirror(root.left, root.right)\n",
    "\n",
    "# 迭代\n",
    "def is_symmetric_iterative(root):\n",
    "\n",
    "    if not root:\n",
    "        return True\n",
    "    \n",
    "    queue = [(root.left, root.right)]\n",
    "    \n",
    "    while queue:\n",
    "        left, right = queue.pop(0)\n",
    "        \n",
    "        if not left and not right:\n",
    "            continue\n",
    "        \n",
    "        if not left or not right or left.val != right.val:\n",
    "            return False\n",
    "        \n",
    "        queue.append((left.left, right.right))\n",
    "        queue.append((left.right, right.left))\n",
    "    \n",
    "    return True\n",
    "\n",
    "def build_tree_example1():\n",
    "    # [1,2,2,3,4,4,3]\n",
    "    root = TreeNode(1)\n",
    "    root.left = TreeNode(2)\n",
    "    root.right = TreeNode(2)\n",
    "    root.left.left = TreeNode(3)\n",
    "    root.left.right = TreeNode(4)\n",
    "    root.right.left = TreeNode(4)\n",
    "    root.right.right = TreeNode(3)\n",
    "    return root\n",
    "\n",
    "def build_tree_example2():\n",
    "    # [1,2,2,null,3,null,3]\n",
    "    root = TreeNode(1)\n",
    "    root.left = TreeNode(2)\n",
    "    root.right = TreeNode(2)\n",
    "    root.left.right = TreeNode(3)\n",
    "    root.right.right = TreeNode(3)\n",
    "    return root\n",
    "\n",
    "if __name__ == \"__main__\":\n",
    "    tree1 = build_tree_example1()\n",
    "    print(\"1 (递归):\", is_symmetric_recursive(tree1))\n",
    "    print(\"1 (迭代):\", is_symmetric_iterative(tree1))\n",
    "    \n",
    "    tree2 = build_tree_example2()\n",
    "    print(\"2 (递归):\", is_symmetric_recursive(tree2)) \n",
    "    print(\"2 (迭代):\", is_symmetric_iterative(tree2)) "
   ]
  },
  {
   "cell_type": "markdown",
   "metadata": {},
   "source": [
    "idea："
   ]
  },
  {
   "cell_type": "markdown",
   "metadata": {},
   "source": [
    "## 问题 11  \n",
    "\n",
    "给你一个由 '1'（陆地）和 '0'（水）组成的的二维网格，请你计算网格中岛屿的数量。岛屿总是被水包围，并且每座岛屿只能由水平方向和/或竖直方向上相邻的陆地连接形成。\n",
    "\n",
    "此外，你可以假设该网格的四条边均被水包围。\n",
    "\n",
    "分析算法设计思路，计算时间复杂度，并基于python编程实现\n",
    "\n",
    "e.g.:\n",
    "---\n",
    "1.\n",
    "输入：grid = [\n",
    "\n",
    "    [\"1\",\"1\",\"1\",\"1\",\"0\"],\n",
    "\n",
    "    [\"1\",\"1\",\"0\",\"1\",\"0\"], \n",
    "\n",
    "    [\"1\",\"1\",\"0\",\"0\",\"0\"], \n",
    "\n",
    "    [\"0\",\"0\",\"0\",\"0\",\"0\"]  \n",
    "\n",
    "]\n",
    "\n",
    "输出：1\n",
    "\n",
    "2.\n",
    "输入：grid = [\n",
    "\n",
    "    [\"1\",\"1\",\"0\",\"0\",\"0\"],\n",
    "\n",
    "    [\"1\",\"1\",\"0\",\"0\",\"0\"],\n",
    "\n",
    "    [\"0\",\"0\",\"1\",\"0\",\"0\"],\n",
    "\n",
    "    [\"0\",\"0\",\"0\",\"1\",\"1\"]\n",
    "\n",
    "]\n",
    "\n",
    "输出：3  \n",
    "idea:"
   ]
  },
  {
   "cell_type": "markdown",
   "metadata": {},
   "source": [
    "### 算法设计思路\n",
    "这是一个经典的图搜索问题，可以使用深度优先搜索来解决\n",
    "1. 遍历整个网格，当找到一个值为1的单元格时，从该单元格开始进行深度优先搜索\n",
    "2. 在深度优先搜索过程中，将所有与当前陆地相连的陆地标记为已访问\n",
    "3. 每完成一次完整的深度优先搜索，岛屿计数器加1\n",
    "4. 继续遍历网格中剩余未访问的单元格，重复上述过程。\n",
    "\n",
    "**以下参考大模型：**\n",
    "但是，对于大型网格，递归调用可能会超过python的默认递归深度限制，  \n",
    "所以可以使用迭代方法替代递归，使用栈来模拟DFS过程，迭代方法更可靠\n",
    "\n",
    "### 时间复杂度\n",
    "- 假设网格大小为m*n\n",
    "- 每个单元格最多被访问一次\n",
    "- 总时间复杂度：O(m×n)"
   ]
  },
  {
   "cell_type": "code",
   "execution_count": 5,
   "metadata": {},
   "outputs": [
    {
     "name": "stdout",
     "output_type": "stream",
     "text": [
      "岛屿数量: 1\n",
      "岛屿数量: 3\n"
     ]
    }
   ],
   "source": [
    "# add your code here\n",
    "# your algorithm time complexity is:O(m×n)\n",
    "\n",
    "def count_islands(grid):\n",
    "    if not grid or not grid[0]:\n",
    "        return 0\n",
    "    \n",
    "    rows,cols=len(grid),len(grid[0])\n",
    "    count=0\n",
    "\n",
    "    def dfs(i,j):\n",
    "        stack=[(i,j)]\n",
    "        grid[i][j]=\"0\"\n",
    "        \n",
    "        while stack:\n",
    "            curr_i,curr_j=stack.pop()\n",
    "\n",
    "            directions=[(1,0),(-1,0),(0,1),(0,-1)]\n",
    "\n",
    "            for di,dj in directions:\n",
    "                ni,nj=curr_i+di,curr_j+dj\n",
    "\n",
    "                if 0<=ni<rows and 0<=nj<cols and grid[ni][nj]==\"1\":\n",
    "                    grid[ni][nj]=\"0\"\n",
    "                    stack.append((ni,nj))\n",
    "\n",
    "    for i in range(rows):\n",
    "        for j in range(cols):\n",
    "            if grid[i][j]==\"1\":\n",
    "                count+=1\n",
    "                dfs(i,j)\n",
    "\n",
    "    return count\n",
    "\n",
    "# 测试例子1\n",
    "grid1 = [\n",
    "    [\"1\",\"1\",\"1\",\"1\",\"0\"],\n",
    "    [\"1\",\"1\",\"0\",\"1\",\"0\"],\n",
    "    [\"1\",\"1\",\"0\",\"0\",\"0\"],\n",
    "    [\"0\",\"0\",\"0\",\"0\",\"0\"]\n",
    "]\n",
    "print(f\"岛屿数量: {count_islands(grid1)}\")\n",
    "\n",
    "# 测试例子2\n",
    "grid2 = [\n",
    "    [\"1\",\"1\",\"0\",\"0\",\"0\"],\n",
    "    [\"1\",\"1\",\"0\",\"0\",\"0\"],\n",
    "    [\"0\",\"0\",\"1\",\"0\",\"0\"],\n",
    "    [\"0\",\"0\",\"0\",\"1\",\"1\"]\n",
    "]\n",
    "print(f\"岛屿数量: {count_islands(grid2)}\")"
   ]
  }
 ],
 "metadata": {
  "kernelspec": {
   "display_name": ".venv",
   "language": "python",
   "name": "python3"
  },
  "language_info": {
   "codemirror_mode": {
    "name": "ipython",
    "version": 3
   },
   "file_extension": ".py",
   "mimetype": "text/x-python",
   "name": "python",
   "nbconvert_exporter": "python",
   "pygments_lexer": "ipython3",
   "version": "3.13.2"
  }
 },
 "nbformat": 4,
 "nbformat_minor": 2
}
