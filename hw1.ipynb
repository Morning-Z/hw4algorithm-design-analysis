{
 "cells": [
  {
   "cell_type": "markdown",
   "metadata": {},
   "source": [
    "## algorithm design and anlysis-2025 spring  homework 1 \n",
    "**Deadline**：2025.5.14\n",
    "\n",
    "**name**:\n",
    "\n",
    "\n",
    "note：\n",
    "---\n",
    "1. 带有\\*的题目，申请免上课的同学，必须完成，其他同学选作；\n",
    "2. 请独立完成，如求助了他人或者大模型，请著明，并且不可省略算法分析部分；\n",
    "4. 如若作答有雷同，全部取消成绩；\n",
    "3. 需要书面作答的题目，可以通过引用图片的形式添加，但是注意上传项目时包含所引用的图片的源文件；\n",
    "4. $log_n$ 默认表示$log_2{n}$;"
   ]
  },
  {
   "cell_type": "markdown",
   "metadata": {},
   "source": [
    "## 问题 1\n",
    "\n",
    "对于下面的每一对表达式(A, B), A是否能表示为B的 $\\Theta, \\Omega ,O$形式. 请注意, 这些关系中的零个、一个或多个可能成立。列出所有正确的。经常发生一些学生会,把指示写错, 所以请把关系写完整, 例如: $A = O(B),  A =\\Theta(B)$, 或$A = \\Omega(B)$。\n",
    "\n",
    "1. $A=n^2-100n, B=n^2$\n",
    "2. $A=logn, B=log_{1.2}n$\n",
    "3. $A=3^{2n}, B=2^{4n}$\n",
    "4. $A=2^{logn}, B=n$\n",
    "5. $A=\\log{\\log}{n},B=10^{10^{100}}$"
   ]
  },
  {
   "cell_type": "markdown",
   "metadata": {},
   "source": [
    "can refer a handwritten picture, pleas upload the picture in /fig/xxx.png\n",
    "answer:\n"
   ]
  },
  {
   "cell_type": "markdown",
   "metadata": {},
   "source": [
    "![问题1](./fig/hw1/问题1.png)"
   ]
  },
  {
   "cell_type": "markdown",
   "metadata": {},
   "source": [
    "## 问题 2：\n",
    "\n",
    "假设有函数 $f$ 和 $g$ 使得 $f(n)$ = $O(g(n))$ 对于下面的每一个陈述, 请判断对错, 如果正确请给出证明, 否则请给出一个反例。\n",
    "\n",
    "1. $\\log{f(n)}$ = $O(\\log(1+g(n)))$\n",
    "2. $3^{f(n)}=O(3^{g(n)})$\n",
    "3. $(f(n))^2=O((g(n))^2)$ "
   ]
  },
  {
   "cell_type": "markdown",
   "metadata": {},
   "source": [
    "you can refer a handwritten picture, pleas upload the picture in /fig/xxx.png\n",
    "answer:"
   ]
  },
  {
   "cell_type": "markdown",
   "metadata": {},
   "source": [
    "![问题2](./fig/hw1/问题2.png)"
   ]
  },
  {
   "cell_type": "markdown",
   "metadata": {},
   "source": [
    "## 问题 3\n",
    "\n",
    "根据下列递归公式, 计算下列 $T(n)$ 对应的的渐近上界。要求所求的边界尽可能的紧（tight）, 请写明步骤。\n",
    "\n",
    "1. $T(1)=1; T(n)=T(n/4)+1$ for $n>1$\n",
    "2. $T(1)=1;T(n)=3T(n/3)+n^2$ for $n>1$\n",
    "3. $T(1)=1;T(n)=T(2n/3)+1$ for $n>1$\n",
    "4. $T(1)=1;T(n)=5T(n/4)+n$ for $n>1$\n",
    "5. $T(n)=1 \\ for\\ n \\le 2 ; T(n)=T(\\sqrt{n})+1 \\ for \\ n>2$"
   ]
  },
  {
   "cell_type": "markdown",
   "metadata": {},
   "source": [
    "can refer a handwritten picture, pleas upload the picture in /fig/xxx.png\n",
    "answer:"
   ]
  },
  {
   "cell_type": "markdown",
   "metadata": {},
   "source": [
    "![问题3](./fig/hw1/问题3.png)"
   ]
  },
  {
   "cell_type": "markdown",
   "metadata": {},
   "source": [
    "## 问题 4：\n",
    "\n",
    "给定一个包含n个元素的数组 `profits` , 它的第 `i` 个元素 `profits[i]` 表示一支股票第 `i` 天的**收益**（正数表示涨, 负数表示跌）。你只能选择 **某一天** 买入这只股票, 并选择在 **未来的某一个不同的日子** 卖出该股票。\n",
    "\n",
    "1. 设计一个算法来计算你所能获取的最大利润和对应买入和卖出的日期。请分析算法方案, 计算其时间复杂度, 并且使用python编程实现该算法。\n",
    "\n",
    "2. \\* 设计一个时间复杂度为 $O(n)$的算法实现该算法\n",
    "\n",
    "e.g. :\n",
    "---\n",
    "profits=[3,2,1,-7,5,2,-1,3,-1], 第5天买入, 第8天卖出, 收益最大：9\n",
    "\n"
   ]
  },
  {
   "cell_type": "markdown",
   "metadata": {},
   "source": [
    "idea:"
   ]
  },
  {
   "cell_type": "markdown",
   "metadata": {},
   "source": [
    "### 算法思路\n",
    "该算法使用了一种改进的Kadane算法来寻找最大子数组和。  \n",
    "1. 遍历数组，维护当前累积的利润`current_profit`。  \n",
    "2. 如果`current_profit + profits[i] > profits[i]`，则继续累积利润。  \n",
    "3. 否则，更新`current_profit`为`profits[i]`，并更新`start_day`为i。  \n",
    "4. 如果`current_profit > max_profit`，则更新`max_profit`，并更新`buy_day`和`sell_day`。  \n",
    "\n",
    "### 时间复杂度\n",
    "该算法的时间复杂度为O(n)，因为只遍历了一次数组。  "
   ]
  },
  {
   "cell_type": "code",
   "execution_count": 3,
   "metadata": {},
   "outputs": [
    {
     "name": "stdout",
     "output_type": "stream",
     "text": [
      "第5天买入,第8天卖出,最大收益为9\n"
     ]
    }
   ],
   "source": [
    "# add your code\n",
    "def max_profit(profits):\n",
    "    if not profits:\n",
    "        return 0,None,None\n",
    "    \n",
    "    current_profit = max_profit = profits[0]\n",
    "    buy_day = 0\n",
    "    sell_day = 0\n",
    "    start_day = 0\n",
    "\n",
    "    for i in range(1, len(profits)):\n",
    "        if current_profit + profits[i] > profits[i]:\n",
    "            current_profit += profits[i]\n",
    "        else:\n",
    "            current_profit = profits[i]\n",
    "            start_day = i\n",
    "\n",
    "        if current_profit > max_profit:\n",
    "            max_profit = current_profit\n",
    "            buy_day = start_day\n",
    "            sell_day = i\n",
    "\n",
    "    return max_profit, buy_day+1, sell_day+1\n",
    "\n",
    "profits=[3,2,1,-7,5,2,-1,3,-1]\n",
    "profit,buy_day,sell_day=max_profit(profits)\n",
    "print(f\"第{buy_day}天买入,第{sell_day}天卖出,最大收益为{profit}\")"
   ]
  },
  {
   "cell_type": "markdown",
   "metadata": {},
   "source": [
    "## 问题 5：\n",
    "\n",
    "观察下方的分治算法（divide-and-conquer algorithm）的伪代码, 回答下面问题\n",
    "\n",
    "```latex\n",
    "DoSomething(A,p,r)\n",
    "-----\n",
    "n := r-p+1\n",
    "if n=2 and A[p]>A[r] then\n",
    "    swap A[p] and A[r]\n",
    "else if n >= 3 then\n",
    "    m = ceil(2n/3)\n",
    "    DoSomething(A,p,p+m-1)\n",
    "    DoSomething(A,r-m+1,r)\n",
    "    DoSomething(A,p,p+m-1)  \n",
    "    \n",
    "---\n",
    "first call: DoSomething(A,1,n)\n",
    "```\n",
    "\n",
    "note：$ceil(2n/3)=\\left\\lceil {2n/3} \\right\\rceil$；$:=$ 表示赋值, 等价于 $\\to$；A是一个包含n的整数元素的数组, \n",
    "\n",
    "1. 写出该算法时间复杂度的递归公式, 并求解其对应的渐进表示\n",
    "2. 描述一下该算法的功能, 并判断是否是最高效的解决方案\n",
    "3. 使用python编程实现上述算法或其对应的更高效版本的算法\n"
   ]
  },
  {
   "cell_type": "markdown",
   "metadata": {},
   "source": [
    "idea："
   ]
  },
  {
   "cell_type": "markdown",
   "metadata": {},
   "source": [
    "![问题5](./fig/hw1/问题5.png)"
   ]
  },
  {
   "cell_type": "markdown",
   "metadata": {},
   "source": [
    "### 算法分析\n",
    "- 当数组长度为2且第一个元素大于第二个元素时，直接交换两个元素。\n",
    "- 当数组长度大于等于3时，递归处理  \n",
    "\n",
    "这个算法应该是一个排序算法，但它的实现方式低效。它在长度为2的数组上确保较小元素在前，但整体结构并不保证完全排序，并且有重复计算。  \n",
    "这不是最高效的解决方案，标准排序算法如快速排序或归并排序的时间复杂度为O(nlogn)，明显优于该算法。\n"
   ]
  },
  {
   "cell_type": "markdown",
   "metadata": {},
   "source": [
    "answer:"
   ]
  },
  {
   "cell_type": "code",
   "execution_count": 4,
   "metadata": {},
   "outputs": [
    {
     "name": "stdout",
     "output_type": "stream",
     "text": [
      "原始数组： [3, 2, 1, -7, 5, 2, -1, 3, -1]\n",
      "排序后的数组： [-7, -1, -1, 1, 2, 2, 3, 3, 5]\n"
     ]
    }
   ],
   "source": [
    "# add your code here\n",
    "# your algorithm time complexity is : O(nlogn)\n",
    "# 归并排序\n",
    "\n",
    "def merge_sort(A):\n",
    "    if len(A) <= 1:\n",
    "        return A\n",
    "    mid = len(A) // 2\n",
    "    left = merge_sort(A[:mid])\n",
    "    right = merge_sort(A[mid:])\n",
    "    return merge(left, right)\n",
    "    \n",
    "def merge(left, right):\n",
    "    result = []\n",
    "    i = j = 0\n",
    "    while i < len(left) and j < len(right):\n",
    "        if left[i] <= right[j]:\n",
    "            result.append(left[i])\n",
    "            i += 1\n",
    "        else:\n",
    "            result.append(right[j])\n",
    "            j += 1\n",
    "    result.extend(left[i:])\n",
    "    result.extend(right[j:])\n",
    "    return result\n",
    "    \n",
    "A=[3,2,1,-7,5,2,-1,3,-1]\n",
    "print(\"原始数组：\",A)\n",
    "sorted_A=merge_sort(A)\n",
    "print(\"排序后的数组：\",sorted_A)"
   ]
  },
  {
   "cell_type": "markdown",
   "metadata": {},
   "source": [
    "## 问题 6：\n",
    "\n",
    "给定一个大小为 `n` 的数组 `nums` , 返回其中的多数元素。多数元素是指在数组中出现次数 **大于** `⌊ n/2 ⌋` 的元素。\n",
    "\n",
    "你可以假设数组是非空的, 并且给定的数组总是存在多数元素。\n",
    "\n",
    "1. 设计一个算法找到给定数组的多数元素, 分析算法设计思路, 计算算法时间复杂度, 使用python编程实现\n",
    "2. \\* 设计时间复杂度为 O(n)、空间复杂度为 O(1) 的算法解决此问题, 分析算法设计思路, 使用python编程实现\n",
    "\n",
    "e.g.:\n",
    "---\n",
    "1. nums=[3,2,3], 返回3\n",
    "2. nums=[2,2,1,1,1,2,2], 返回2\n"
   ]
  },
  {
   "cell_type": "markdown",
   "metadata": {},
   "source": [
    "idea："
   ]
  },
  {
   "cell_type": "code",
   "execution_count": 3,
   "metadata": {},
   "outputs": [
    {
     "name": "stdout",
     "output_type": "stream",
     "text": [
      "多数元素为： 2\n"
     ]
    }
   ],
   "source": [
    "# algorithm time complexity：O(n), space complexity:O(1)\n",
    "# add your code here\n",
    "def find_majority_element(nums):\n",
    "    candidate = None\n",
    "    count = 0\n",
    "    \n",
    "    for num in nums:\n",
    "        if count == 0:\n",
    "            candidate = num\n",
    "        if num == candidate:\n",
    "            count += 1\n",
    "        else:\n",
    "            count -= 1\n",
    "    \n",
    "    count = 0\n",
    "    for num in nums:\n",
    "        if num == candidate:\n",
    "            count += 1\n",
    "    if count > len(nums) // 2:\n",
    "        return candidate\n",
    "    else:\n",
    "        return \"不存在多数元素\"\n",
    "\n",
    "# nums=[3,2,3]\n",
    "nums=[2,2,1,1,1,2,2]\n",
    "print(\"多数元素为：\",find_majority_element(nums))\n"
   ]
  },
  {
   "cell_type": "markdown",
   "metadata": {},
   "source": [
    "### 算法分析\n",
    "为了满足时间复杂度为O(n)，空间复杂度为O(1)，可以使用摩尔投票算法，核心思想是通过抵消不同的元素来找到多数元素。  \n",
    "1. 维护一个候选元素和一个计数器\n",
    "2. 遍历数组，如果计数器为0，则将当前元素设为候选元素\n",
    "3. 如果当前元素与候选元素相同，则计数器加1\n",
    "4. 如果当前元素与候选元素不同，则计数器减1\n",
    "5. 最后，计数器大于0的元素即为多数元素  \n",
    "\n",
    "**时间复杂度**：O(n)，仅需一次遍历数组  \n",
    "**空间复杂度**：O(1)，只使用了两个变量"
   ]
  },
  {
   "cell_type": "code",
   "execution_count": 4,
   "metadata": {},
   "outputs": [
    {
     "name": "stdout",
     "output_type": "stream",
     "text": [
      "多数元素为： 2\n"
     ]
    }
   ],
   "source": [
    "# algorithm time complexity：O(n), space complexity:O(1)\n",
    "# add your code here\n",
    "def find_majority_element(nums):\n",
    "    candidate = None\n",
    "    count = 0\n",
    "    \n",
    "    for num in nums:\n",
    "        if count == 0:\n",
    "            candidate = num\n",
    "        if num == candidate:\n",
    "            count += 1\n",
    "        else:\n",
    "            count -= 1\n",
    "    \n",
    "    count = 0\n",
    "    for num in nums:\n",
    "        if num == candidate:\n",
    "            count += 1\n",
    "    if count > len(nums) // 2:\n",
    "        return candidate\n",
    "    else:\n",
    "        return \"不存在多数元素\"\n",
    "\n",
    "# nums=[3,2,3,2,3]\n",
    "nums=[2,2,1,1,1,2,2]\n",
    "print(\"多数元素为：\",find_majority_element(nums))\n"
   ]
  },
  {
   "cell_type": "markdown",
   "metadata": {},
   "source": [
    "## 问题 7：\n",
    "\n",
    "给定一个包含不同整数元素的数组 $ A[1..n]$ ,并且满足条件：$A[1]>A[2]$ 并且 $A[n-1]<A[n]$; 规定：如果一个元素比它两边的邻居元素都小, 即：$A[x]<A[x-1], A[x]<A[x+1]$ , 称这个元素A[x]为“局部最小”。通过遍历一次数组, 我们可以很容易在 $O(n)$的时间复杂度下找到一个局部最小值, \n",
    "\n",
    "\n",
    "1. 分析该问题, 设计一个算法在$O(logn)$的时间复杂度下找到一个局部最小(返回数值), 要求：分析算法设计思路, 并且使用python编程实现\n",
    "2. \\* 设计算法找出所有局部最小值, 分析算法设计思路, 并使用python编程实现\n",
    "\n",
    "e.g.:\n",
    "---\n",
    "A=[9, 3, 7, 2, 1, 4, 5 ] 时,  局部最小元素为 3, 1\n"
   ]
  },
  {
   "cell_type": "markdown",
   "metadata": {},
   "source": [
    "idea："
   ]
  },
  {
   "cell_type": "markdown",
   "metadata": {},
   "source": [
    "要求时间复杂度为O(logn)，可以使用二分查找的思想，已知条件告诉我们A[1] > A[2]和A[n-1] < A[n]，这意味着：  \n",
    "- 在数组的左边，有一个下降的趋势\n",
    "- 在数组的右边，有一个上升的趋势\n",
    "- 这样在数组中间，必然存在一个局部最小值  \n",
    "所以可以使用二分查找\n",
    "- 找到中间元素mid\n",
    "- 如果A[mid]是局部最小值，则返回它\n",
    "- 否则，就向可能存在局部最小值的一侧继续二分查找"
   ]
  },
  {
   "cell_type": "code",
   "execution_count": 18,
   "metadata": {},
   "outputs": [
    {
     "name": "stdout",
     "output_type": "stream",
     "text": [
      "一个局部最小值为： 1\n"
     ]
    }
   ],
   "source": [
    "# add your code here\n",
    "# your algorithm time complexity is :O(logn)\n",
    "def find_local_minimum(A):\n",
    "    n=len(A)\n",
    "    if n==1:\n",
    "        return A[0]\n",
    "    if A[0]<A[1]:\n",
    "        return A[0]\n",
    "    if A[n-1]<A[n-2]:\n",
    "        return A[n-1]\n",
    "        \n",
    "    left=1\n",
    "    right=n-2\n",
    "\n",
    "    while left<=right:\n",
    "        mid=(left+right)//2\n",
    "        if A[mid]<A[mid-1] and A[mid]<A[mid+1]:\n",
    "            return A[mid]\n",
    "        if A[mid]<A[mid-1]:\n",
    "            left=mid+1\n",
    "        else:\n",
    "            right=mid-1\n",
    "    return None\n",
    "\n",
    "A=[9, 3, 7, 2, 1, 4, 5 ]\n",
    "print(\"一个局部最小值为：\",find_local_minimum(A))\n"
   ]
  },
  {
   "cell_type": "markdown",
   "metadata": {},
   "source": [
    "idea:"
   ]
  },
  {
   "cell_type": "markdown",
   "metadata": {},
   "source": [
    "要想查找所有局部最小值，可以通过线性扫描数组，检查每个元素是否小于其两侧的元素。  \n",
    "**时间复杂度**：O(n)，因为需要遍历整个数组  "
   ]
  },
  {
   "cell_type": "code",
   "execution_count": 19,
   "metadata": {},
   "outputs": [
    {
     "name": "stdout",
     "output_type": "stream",
     "text": [
      "所有局部最小值为： [3, 1]\n"
     ]
    }
   ],
   "source": [
    "# add your code here\n",
    "# your algorithm time complexity is :O(n)\n",
    "def find_all_local_minimum(A):\n",
    "    n=len(A)\n",
    "    local_minimums=[]\n",
    "    if n>1 and A[0]<A[1]:\n",
    "        local_minimums.append(A[0])\n",
    "    for i in range(1,n-1):\n",
    "        if A[i]<A[i-1] and A[i]<A[i+1]:\n",
    "            local_minimums.append(A[i])\n",
    "    if n>1 and A[n-1]<A[n-2]:\n",
    "        local_minimums.append(A[n-1])\n",
    "    return local_minimums\n",
    "\n",
    "A=[9, 3, 7, 2, 1, 4, 5 ]\n",
    "print(\"所有局部最小值为：\",find_all_local_minimum(A))"
   ]
  },
  {
   "cell_type": "markdown",
   "metadata": {},
   "source": [
    "## 问题 8：\n",
    "\n",
    "给定包含n个不同数字的一组数, 寻找一种基于比较的算法在这组数中找到k个最小的数字, 并按顺序输出它们。\n",
    "\n",
    "1. 将n个数先进行排序, 然后按顺序输出最小的k个数。要求：选择合适的排序算法实现上述操作, 计算算法时间复杂度, 并使用python编程实现。\n",
    "2. 建立一个包含这n个数的堆（heap）, 并且调用 k 次Extract-min 按顺序输出最小的k个数。使用往空堆中不断插入元素的方法建立堆, 分析这种方法建堆的时间复杂度, 并使用python编程实现\n",
    "3. \\* 假设数组中包含的数据总数目超过了计算机的存储能力, 请设计一个算法, 找到这堆数据的前k小的数值, 计算时间复杂度, 并使用python实现该算法, 假设计算机一定能存储k个数据。\n",
    "\n",
    "e.g.：\n",
    "---\n",
    "数组arr=[5,4,3,2,6,1,88,33,22,107] 的前3个最小数据为：1, 2, 3\n"
   ]
  },
  {
   "cell_type": "markdown",
   "metadata": {},
   "source": [
    "idea："
   ]
  },
  {
   "cell_type": "markdown",
   "metadata": {},
   "source": [
    "使用快速排序  \n",
    "**时间复杂度**：O(nlogn)  "
   ]
  },
  {
   "cell_type": "code",
   "execution_count": 17,
   "metadata": {},
   "outputs": [
    {
     "name": "stdout",
     "output_type": "stream",
     "text": [
      "[1, 2, 3]\n"
     ]
    }
   ],
   "source": [
    "# add your code here\n",
    "# your algorithm time complexity is :O(nlogn)\n",
    "\n",
    "def find_k_smallest(arr,k):\n",
    "    if len(arr)==0 or k<=0 or k>len(arr):\n",
    "        return None\n",
    "    sorted_arr=sorted(arr)\n",
    "    return sorted_arr[:k]\n",
    "\n",
    "arr=[5,4,3,2,6,1,88,33,22,107]\n",
    "k=3\n",
    "print(find_k_smallest(arr,k))\n"
   ]
  },
  {
   "cell_type": "markdown",
   "metadata": {},
   "source": [
    "### 使用堆结构\n",
    "可以使用最小堆来实现这个功能。  \n",
    "1. 将所有元素插入到最小堆中\n",
    "2. 连续k次从堆中提取最小元素\n",
    "\n",
    "**时间复杂度**：\n",
    "- 建堆时间：O(nlogn)(逐个插入元素构建堆)\n",
    "- 提取最小元素时间：O(klogn)\n",
    "- 总时间复杂度：O(nlogn)"
   ]
  },
  {
   "cell_type": "code",
   "execution_count": 20,
   "metadata": {},
   "outputs": [
    {
     "name": "stdout",
     "output_type": "stream",
     "text": [
      "[1, 2, 3]\n"
     ]
    }
   ],
   "source": [
    "# add your code here\n",
    "# your algorithm time complexity is :O(nlogn)\n",
    "\n",
    "import heapq\n",
    "def find_k_smallest_heap(arr,k):\n",
    "    heap=[]\n",
    "    for num in arr:\n",
    "        heapq.heappush(heap,num)\n",
    "    \n",
    "    result=[]\n",
    "    for _ in range(k):\n",
    "        if heap:\n",
    "            result.append(heapq.heappop(heap))\n",
    "    return result\n",
    "\n",
    "arr=[5,4,3,2,6,1,88,33,22,107]\n",
    "k=3\n",
    "print(find_k_smallest_heap(arr,k))"
   ]
  },
  {
   "cell_type": "markdown",
   "metadata": {},
   "source": [
    "### 处理超大规模数据集\n",
    "当数据超过计算机存储能力时，可以：\n",
    "1. 维护一个大小为k的最大堆\n",
    "2. 逐个处理数据流中的元素\n",
    "3. 最终堆中的元素就是k个最小元素\n",
    "\n",
    "**时间复杂度**：O(nlogk),其中n是数据总量，k是要找的最小元素个数"
   ]
  },
  {
   "cell_type": "code",
   "execution_count": 24,
   "metadata": {},
   "outputs": [
    {
     "name": "stdout",
     "output_type": "stream",
     "text": [
      "前3个最小数据为：[1, 2, 3]\n"
     ]
    }
   ],
   "source": [
    "# add your code here\n",
    "# your algorithm time complexity is :O(nlogk)\n",
    "\n",
    "import heapq\n",
    "def find_k_smallest_large_data(arr,k):\n",
    "    max_heap=[]\n",
    "\n",
    "    for num in arr:\n",
    "        if len(max_heap)<k:\n",
    "            heapq.heappush(max_heap,-num)\n",
    "        elif -max_heap[0]>num:\n",
    "            heapq.heappop(max_heap)\n",
    "            heapq.heappush(max_heap,-num)\n",
    "    return sorted([-x for x in max_heap])\n",
    "\n",
    "arr=[5,4,3,2,6,1,88,33,22,107]\n",
    "k=3\n",
    "print(f\"前{k}个最小数据为：{find_k_smallest_large_data(arr,k)}\")"
   ]
  },
  {
   "cell_type": "markdown",
   "metadata": {},
   "source": [
    "## 问题 9：\n",
    "\n",
    "**选择问题**:给定一个包含n个未排序值的数组A和一个$k≤n$的整数, 返回A中最小的第k项。\n",
    "\n",
    "在课堂上, 学了一个简单的O(n)随机算法来解决选择问题。事实上还有一种更复杂的最坏情况下时间复杂度为$O(n)$ 的选择算法。假设使用一个黑盒过程来实现这个O(n)选择算法: 给定一个数组A、 $p < r$ 和 k,  $BB(A, p, r, k)$ 可以在$O(r−p+ 1)$时间内找到并报告$A[p..r]$中第k小的项的下标。假设你可以在线性时间内处理Partition过程。\n",
    "\n",
    "1. 请分析如何修改 Quicksork 算法可以使其最差情况下的运行时间为 $O(nlogn)$, 使用伪代码实现, 并分析为何修改后的版本最差情况的运行时间为$O(nlogn)$\n",
    "\n",
    "note: 伪代码中, 你可以直接调用用` BB(A,p,r,k)`这个函数用于表示在最坏情况下时间复杂度为$O(n)$的选择算法；\n",
    "\n",
    "\n",
    "\n",
    "2. 找到一个更好的算法报告数组A中的前k小的项, 使用伪代码表示你的算法, 并分析你算法的时间复杂度。\n",
    "\n",
    "举例：A=[13, 3, 7, 9, 11, 1, 15, 2, 8, 10, 12, 16, 14, 5], 当k=4时, 应该报告1, 2, 3, 4\n",
    "\n",
    "note： 最直观的方法就是先将数组A排序, 然后从左向右报告其前k项, 这样操作的时间复杂度为$O(nlogn)$. 调用用` BB(A,p,r,k)`设计一个算法使其报告无序数组A的前k项, 满足时间复杂度好于$\\Theta(nlogn)$, 并且当$k=\\sqrt{n}$时, 你设计的算法时间复杂度应该为$\\Theta(n)$.\n",
    "\n",
    "\n",
    "\n",
    "3. 给定一个大小为n的数组, 找到一个 时间复杂度为$O(n log k)$ 的算法, 该算法将A中的元素重新排序, 使它们被划分为k个部分, 每个部分的元素小于或等于下一部分的元素。假设n和k都是2的幂。使用伪代码表示你的算法, 并分析时间复杂度。\n",
    "\n",
    "e.g.:\n",
    "---\n",
    "数组：[1,  3,  5,  7,  9,  11,  13,  15,  2,  4,  6,  8,  10,  12,  16,  14], k=4, \n",
    "\n",
    "对应重新排序的数组为：[1,  3,  2,  4]  [7,  6,  5,  8]  [12,  11,  10,  9]  [13,  14,  16,  15]\n",
    "\n",
    "\n"
   ]
  },
  {
   "cell_type": "markdown",
   "metadata": {},
   "source": [
    "idea："
   ]
  },
  {
   "cell_type": "markdown",
   "metadata": {},
   "source": [
    "### 修改Quicksork算法\n",
    "- 普通Quicksork算法的最差情况是O(n²)，发生在每次分割极不平衡时\n",
    "- 使用中位数作为主元可以保证每次将数组分割成大致相等的两部分\n",
    "- 这样递归树的深度将保持在O(logn)，每层的总工作量为O(n)\n",
    "- 因此，总时间复杂度为O(nlogn)"
   ]
  },
  {
   "cell_type": "raw",
   "metadata": {
    "vscode": {
     "languageId": "raw"
    }
   },
   "source": [
    "# add your pseudo-code here\n",
    "\n",
    "Partition_By_Median(A,p,r)\n",
    "    mid_index=BB(A,p,r,⌊(r-p+1)/2⌋) #使用BB函数找到中位数\n",
    "    swap(A[mid_index],A[r]) #交换中位数和末尾元素 \n",
    "    return Partition(A,p,r)\n",
    "\n",
    "ModifiedQuicksort(A,p,r)\n",
    "    if p<r :\n",
    "        q=Partition_By_Median(A,p,r)\n",
    "        ModifiedQuicksort(A,p,q-1)\n",
    "        ModifiedQuicksort(A,q+1,r)"
   ]
  },
  {
   "cell_type": "markdown",
   "metadata": {},
   "source": [
    "### 报告前k小项\n",
    "- 调用BB查找第k小的元素：O(n)\n",
    "- 收集小于等于第k小元素的值：O(n)\n",
    "- 对最多k个元素排序：O(klogk)\n",
    "- 总时间复杂度：O(n+klogk)\n",
    "- 当k=√n时，时间复杂度为O(n + √n log √n) = O(n)"
   ]
  },
  {
   "cell_type": "raw",
   "metadata": {
    "vscode": {
     "languageId": "raw"
    }
   },
   "source": [
    "# add your pseudo-code here\n",
    "\n",
    "FindKSmallest(A, k)\n",
    "    if k > length(A) then\n",
    "        return A\n",
    "    if k == 0 then\n",
    "        return []\n",
    "    \n",
    "    kth_index = BB(A, 1, length(A), k)  #使用BB函数找到第k小的元素的索引\n",
    "    kth_element = A[kth_index]\n",
    "    \n",
    "    smaller = []\n",
    "    equal = []\n",
    "    \n",
    "    # 收集所有小于等于第k小元素的值\n",
    "    for i = 1 to length(A)\n",
    "        if A[i] < kth_element then\n",
    "            将A[i]添加到smaller\n",
    "        else if A[i] == kth_element then\n",
    "            将A[i]添加到equal\n",
    "            \n",
    "    # 如果smaller的大小小于k，则从equal中取出一些元素\n",
    "    result = smaller\n",
    "    需要补充的数量 = k - length(smaller)\n",
    "    将equal中的前\"需要补充的数量\"个元素添加到result\n",
    "    \n",
    "    对result进行排序\n",
    "    return result"
   ]
  },
  {
   "cell_type": "markdown",
   "metadata": {},
   "source": [
    "### 将数组划为k个部分\n",
    "- 查找k-1个分割点：O(kn),但由于使用二分查找思想，可以优化为O(nlogk)\n",
    "- 根据分割点对数组进行重排序:O(n)\n",
    "- 总时间复杂度：O(nlogk)"
   ]
  },
  {
   "cell_type": "raw",
   "metadata": {
    "vscode": {
     "languageId": "raw"
    }
   },
   "source": [
    "# add your pseudo-code here\n",
    "\n",
    "PartitionIntoK(A, n, k)\n",
    "    # 使用BB查找k-1个分位点\n",
    "    for i = 1 to k-1\n",
    "        pivot_index[i] = BB(A, 1, n, i*n/k)\n",
    "    \n",
    "    # 使用这些分位点进行分区\n",
    "    temp = 创建大小为n的空数组\n",
    "    count = 创建大小为k的数组，初始化为0\n",
    "    \n",
    "    # 确定每个元素应该属于哪个区域\n",
    "    for i = 1 to n\n",
    "        for j = 0 to k-1\n",
    "            if j == 0 and A[i] <= A[pivot_index[1]] then\n",
    "                temp[j*n/k + count[j]] = A[i]\n",
    "                count[j]++\n",
    "                break\n",
    "            else if j == k-1 or (A[pivot_index[j]] < A[i] <= A[pivot_index[j+1]]) then\n",
    "                temp[j*n/k + count[j]] = A[i]\n",
    "                count[j]++\n",
    "                break\n",
    "    \n",
    "    # 将temp复制回A\n",
    "    for i = 1 to n\n",
    "        A[i] = temp[i]\n",
    "    \n",
    "    return A"
   ]
  },
  {
   "cell_type": "markdown",
   "metadata": {},
   "source": [
    "## 问题 10：\n",
    "\n",
    "给定一个包含m个**字符串**的数组A, 其中不同的字符串可能有不同的字符数, 但数组中所有字符串的字符总数为n。设计一个算法在 $O(n)$ 时间内对字符串进行排序, 分析算法设计方案, 计算其时间复杂度, 并基于python编程实现该算法。请注意, 假设字符串只包含\"a\",\"b\",...,\"z\", \n",
    "\n",
    "\n",
    "\n",
    "举例1：数组A=[\"a\", \"da\", \"bde\", \"ab\", \"bc\", \"abdc\", \"cdba\"], 排序后的数组应该为：['a', 'ab', 'abdc', 'bc', 'bde', 'cdba', 'da']\n",
    "\n",
    "\n",
    "\n",
    "举例2：数组A=['ab', 'a', 'b', 'abc', 'ba', 'c'], 排序后的数组应该为：\n",
    "\n",
    "['a', 'ab', 'abc', 'b', 'ba', 'c']\n",
    "\n",
    "\n",
    "\n",
    "举例3：数组A=['aef', 'yzr', 'wr', 'ab', 'bhjc', 'lkabdc', 'pwcdba'],  排序后的数组应该为：['ab', 'aef', 'bhjc', 'lkabdc', 'pwcdba', 'wr', 'yzr']\n",
    "\n",
    "\n",
    "\n",
    "note：\n",
    "\n",
    "-  两个字符之间的比较可以考虑比较他们对应的ASCII码值；\n",
    "- python中可以使用`ord(\"a\")`返回字符 “a”对应的ASCII值"
   ]
  },
  {
   "cell_type": "markdown",
   "metadata": {},
   "source": [
    "idea:"
   ]
  },
  {
   "cell_type": "markdown",
   "metadata": {},
   "source": [
    "可以使用基数排序的思想：  \n",
    "- 找出最长字符串的长度`max_len`\n",
    "- 从最低有效位（最右侧字符）开始，向最高有效位（最左侧字符）进行计数排序\n",
    "- 对于长度不足的字符串，可以视为该位置有一个“空”字符\n",
    "\n",
    "**时间复杂度**：\n",
    "- 找出最长字符串长度:O(m)\n",
    "- 基数排序的每一轮：O(m+26)\n",
    "- 总轮数与最长字符串长度有关:O(max_len)\n",
    "- 总时间复杂度O（max_len(m+26)）\n",
    "因此时间复杂度为O(n)\n"
   ]
  },
  {
   "cell_type": "code",
   "execution_count": 29,
   "metadata": {},
   "outputs": [
    {
     "name": "stdout",
     "output_type": "stream",
     "text": [
      "['a', 'ab', 'abc', 'b', 'ba', 'c']\n"
     ]
    }
   ],
   "source": [
    "# add your code here\n",
    "# your algorithm time complexity is :O(n)\n",
    "\n",
    "def counting_sort(strs,p):\n",
    "    count=[0]*27\n",
    "\n",
    "    for s in strs:\n",
    "        if p>=len(s):\n",
    "            count[0]+=1\n",
    "        else:\n",
    "            count[ord(s[p])-ord('a')+1]+=1\n",
    "\n",
    "    for i in range(1,27):\n",
    "        count[i]+=count[i-1]\n",
    "\n",
    "    output=[None]*len(strs)\n",
    "\n",
    "    for i in range(len(strs)-1,-1,-1):\n",
    "        if p>=len(strs[i]):\n",
    "            index=0\n",
    "        else:\n",
    "            index=ord(strs[i][p])-ord('a')+1\n",
    "        output[count[index]-1]=strs[i]\n",
    "        count[index]-=1\n",
    "\n",
    "    for i in range(len(strs)):\n",
    "        strs[i]=output[i]\n",
    "\n",
    "def radix_sort_strs(strs):\n",
    "    if not strs:\n",
    "        return []\n",
    "    \n",
    "    max_len=max(len(s) for s in strs)\n",
    "\n",
    "    for p in range(max_len-1,-1,-1):\n",
    "        counting_sort(strs,p)\n",
    "\n",
    "    return strs\n",
    "\n",
    "# A=[\"a\", \"da\", \"bde\", \"ab\", \"bc\", \"abdc\", \"cdba\"]\n",
    "A=['ab', 'a', 'b', 'abc', 'ba', 'c']\n",
    "print(radix_sort_strs(A.copy()))"
   ]
  }
 ],
 "metadata": {
  "kernelspec": {
   "display_name": ".venv",
   "language": "python",
   "name": "python3"
  },
  "language_info": {
   "codemirror_mode": {
    "name": "ipython",
    "version": 3
   },
   "file_extension": ".py",
   "mimetype": "text/x-python",
   "name": "python",
   "nbconvert_exporter": "python",
   "pygments_lexer": "ipython3",
   "version": "3.13.2"
  }
 },
 "nbformat": 4,
 "nbformat_minor": 2
}
