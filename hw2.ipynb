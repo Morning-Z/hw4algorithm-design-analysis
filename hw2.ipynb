{
 "cells": [
  {
   "cell_type": "markdown",
   "metadata": {},
   "source": [
    "## algorithm design and anlysis-2025 spring  homework 2\n",
    "**Deadline**：2025.5.14\n",
    "\n",
    "**name**:\n",
    "\n",
    "\n",
    "note：\n",
    "---\n",
    "1. 带有\\*的题目，申请免上课的同学，必须完成，其他同学选作；\n",
    "2. 请独立完成，如求助了他人或者大模型，请著明，并且不可省略算法分析部分；\n",
    "4. 如若作答有雷同，全部取消成绩；\n",
    "3. 需要书面作答的题目，可以通过引用图片的形式添加，但是注意上传项目时包含所引用的图片的源文件；\n",
    "4. $log_n$ 默认表示$log_2{n}$;"
   ]
  },
  {
   "cell_type": "markdown",
   "metadata": {},
   "source": [
    "## 问题 1  \n",
    "\n",
    "> 给定一个已排序的链表的头 `head` ， *删除所有重复的元素，使每个元素只出现一次* 。返回 *已排序的链表* 。链表的类如下所示：\n",
    "\n",
    "```python\n",
    "class NodeList:\n",
    "    def __init__(self, val=None, right=None):\n",
    "        self.val   = val\n",
    "        self.right = right\n",
    "```\n",
    "\n",
    "输入是一个数组，你首先需要将数组转化为链表，然后删除链表中的重复元素，再遍历链表元素，以一个数组的形式返回。请设计一个算法解决上述任务，分析算法设计思路，计算时间复杂度, 并基于python编程实现。\n",
    "\n",
    "e.g.  输入：head=[1, 1, 2, 3, 3]   输出：[1, 2, 3]\n",
    "\n",
    "![image-20240502110020439](./fig/hw2q1.png)\n",
    "\n"
   ]
  },
  {
   "cell_type": "markdown",
   "metadata": {},
   "source": [
    "idea："
   ]
  },
  {
   "cell_type": "markdown",
   "metadata": {},
   "source": [
    "### 算法设计思路\n",
    "对于这个问题，需要处理三个步骤：\n",
    "1. 将数组转化为链表\n",
    "2. 删除链表中的重复元素\n",
    "3. 遍历链表元素，以一个数组的形式返回\n",
    "\n",
    "### 时间复杂度分析\n",
    "1. 将数组转化为链表的时间复杂度为O(n)\n",
    "2. 删除链表中的重复元素的时间复杂度为O(n)\n",
    "3. 遍历链表元素，以一个数组的形式返回的时间复杂度为O(n)"
   ]
  },
  {
   "cell_type": "code",
   "execution_count": 2,
   "metadata": {},
   "outputs": [
    {
     "name": "stdout",
     "output_type": "stream",
     "text": [
      "[1, 2, 3]\n"
     ]
    }
   ],
   "source": [
    "# add your idea here\n",
    "# your algorithm time complexity is:O(n)\n",
    "\n",
    "class NodeList:\n",
    "    def __init__(self, val=None, right=None):\n",
    "        self.val   = val\n",
    "        self.right = right\n",
    "\n",
    "# 将数组转换为链表\n",
    "def array_to_linked_list(arr):\n",
    "    if not arr:\n",
    "        return None\n",
    "    head=NodeList(arr[0])\n",
    "    current=head\n",
    "    for val in arr[1:]:\n",
    "        current.right=NodeList(val)\n",
    "        current=current.right\n",
    "    return head\n",
    "\n",
    "# 删除链表中的重复元素\n",
    "def delete_duplicates(head):\n",
    "    if not head:\n",
    "        return None\n",
    "    current=head\n",
    "    while current and current.right:\n",
    "        if current.val==current.right.val:\n",
    "            current.right=current.right.right\n",
    "        else:\n",
    "            current=current.right\n",
    "    return head\n",
    "\n",
    "# 将链表转换为数组\n",
    "def linkedlist_to_array(head):\n",
    "    result=[]\n",
    "    current=head\n",
    "    while current:\n",
    "        result.append(current.val)\n",
    "        current=current.right\n",
    "    return result\n",
    "\n",
    "def solution(arr):\n",
    "    head=array_to_linked_list(arr)\n",
    "    head=delete_duplicates(head)\n",
    "    return linkedlist_to_array(head)\n",
    "\n",
    "\n",
    "head=[1,1,2,3,3]\n",
    "print(solution(head))\n"
   ]
  },
  {
   "cell_type": "markdown",
   "metadata": {},
   "source": [
    "## 问题 2  \n",
    "\n",
    "> 下面是一个经典的算法问题：\n",
    ">\n",
    "> - 给定包含n个整数的一个整数数组 `nums` 和一个整数目标值 `target`，请你在该数组中找出 **和为目标值** *`target`* 的那 **两个** 整数，并返回它们的**数组下标**。假设每种输入只会对应一个答案。但是，数组中同一个元素在答案里不能重复出现。你可以按任意顺序返回答案。\n",
    ">\n",
    "> 由于要多次查找数组中元素的位置，为了提高查询效率可以使用哈希表来存储数组中的数据，在哈希表中查询一个元素的复杂度为O(1)。 已知python中的字典是使用哈希表实现的，即使用`dict[key]`查询对应的value时间复杂度为O(1), python提供了查询字典是否包含某个key的功能：`key in dict`，时间复杂度也是O(1)\n",
    "\n",
    "请根据上面信息，设计一个时间复杂度为O(n) 的算法，解决上述算法问题\n",
    "\n",
    "e.g.   \n",
    "\n",
    "输入：nums=[2,7,11,15], target=9， 输出：[0，1]\n",
    "\n",
    "输入：nums=[3,2,4], target=6, 输出：[1,2]\n",
    "\n",
    "输入：nums=[3,3], target=6,  输出：[0,1]\n"
   ]
  },
  {
   "cell_type": "markdown",
   "metadata": {},
   "source": [
    "### 算法设计思路\n",
    "使用哈希表来提高查找效率：\n",
    "1. 创建一个空字典用于存储已遍历的元素及其下标\n",
    "2. 遍历数组中的每个元素\n",
    "3. 计算目标值与当前元素的差值\n",
    "4. 检查差值是否在哈希表中\n",
    "    - 如果差值在哈希表中，返回当前元素的下标和差值的下标\n",
    "    - 如果差值不在哈希表中，将当前元素及其下标存入哈希表\n",
    "5. 继续遍历直到找到答案\n",
    "\n",
    "### 时间复杂度分析\n",
    "- 遍历数组的时间复杂度为O(n)\n",
    "- 哈希表的插入和查找操作的时间复杂度为O(1)\n",
    "因此，总的时间复杂度为O(n)\n"
   ]
  },
  {
   "cell_type": "code",
   "execution_count": 6,
   "metadata": {},
   "outputs": [
    {
     "name": "stdout",
     "output_type": "stream",
     "text": [
      "[0, 1]\n"
     ]
    }
   ],
   "source": [
    "# add your idea here\n",
    "# your algorithm time complexity is: O(n)\n",
    "\n",
    "def find_two_int(nums,target):\n",
    "    dic={}\n",
    "\n",
    "    for i,num in enumerate(nums):\n",
    "        diff=target-num\n",
    "\n",
    "        if diff in dic:\n",
    "            return [dic[diff],i]\n",
    "        \n",
    "        dic[num]=i\n",
    "\n",
    "    return []\n",
    "\n",
    "# nums=[2,7,11,15]\n",
    "# target=9\n",
    "# nums=[3,2,4]\n",
    "# target=6\n",
    "nums=[3,3]\n",
    "target=6\n",
    "print(find_two_int(nums,target))"
   ]
  },
  {
   "cell_type": "markdown",
   "metadata": {},
   "source": [
    "## 问题 3:   \n",
    "\n",
    "> 栈是一种常用的数据结构，编译器中通常使用栈来实现表达式求值。\n",
    ">\n",
    "> 以表达式 $3+5 \\times 8-6$​ 为例。编译器使用两个栈来完成运算，即一个栈保持操作数，另一个栈保存运算符。\n",
    ">\n",
    "> 1. 从左向右遍历表达式，遇到数字就压入操作数栈；\n",
    ">\n",
    "> 2. 遇到运算符，就与运算符栈的栈顶元素进行比较。如果比运算符栈顶元素的优先级高，就将当前运算符压入栈；如果比运算符栈顶元素的优先级低或者相同，从运算符栈中取栈顶运算符，从操作数栈的栈顶取 2 个操作数，然后进行计算，再把计算完的结果压入操作数栈，继续比较。\n",
    ">\n",
    "> 下图是 $3+5 \\times 8-6$  这个表达式的计算过程：\n",
    "\n",
    "![figure](./fig/hw2q3.png)\n",
    "\n",
    "根据上述原理，请设计一个算法完成表达式的运算，当输入为表达式字符串，返回对应的计算结果。分析算法设计思路，计算时间复杂度，并基于python编程实现\n",
    "\n",
    "**note：**\n",
    "\n",
    "1. 假设输入的表达式只会出现加（“+”），减 “-”， 乘“*”，除 “/” 四个运算符, 表达式中只会出现正整数\n",
    "2. python中` str.isdigit()`函数可以判断字符串str是否为数字，\n",
    "\n",
    "\n",
    "\n",
    "e.g. :\n",
    "---\n",
    "\n",
    "1. 输入：“$3+5 * 8 -6$”   输出：37\n",
    "\n",
    "2. 输入：“$34+13*9 + 44-12/3$”  输出：191"
   ]
  },
  {
   "cell_type": "markdown",
   "metadata": {},
   "source": [
    "idea："
   ]
  },
  {
   "cell_type": "markdown",
   "metadata": {},
   "source": [
    "### 算法设计思路\n",
    "对于表达式求值问题，需要使用两个栈（操作数栈和运算符栈）来实现：\n",
    "1. 从左到右扫描表达式\n",
    "2. 遇到数字时，将数字压入操作数栈\n",
    "3. 遇到运算符时，比较运算符栈顶元素的优先级\n",
    "4. 如果当前运算符优先级高于栈顶运算符，将当前运算符压入栈\n",
    "5. 如果当前运算符优先级低于或等于栈顶运算符，从运算符栈中取栈顶运算符，从操作数栈中取两个操作数，进行计算，将结果压入操作数栈\n",
    "6. 继续扫描表达式，直到遍历完所有字符\n",
    "7. 最终，操作数栈中只剩下一个元素，即为表达式的计算结果\n",
    "\n",
    "### 时间复杂度分析\n",
    "- 遍历表达式的时间复杂度为O(n)\n",
    "- 每个字符最多被压入栈一次，弹出栈一次，所以压栈和弹栈的时间复杂度为O(n)\n",
    "因此，总的时间复杂度为O(n)   "
   ]
  },
  {
   "cell_type": "code",
   "execution_count": 7,
   "metadata": {},
   "outputs": [
    {
     "name": "stdout",
     "output_type": "stream",
     "text": [
      "37\n",
      "191\n"
     ]
    }
   ],
   "source": [
    "# add your idea here\n",
    "# your algorithm time complexity is: O(n)\n",
    "\n",
    "def expression_evaluation(exp):\n",
    "    exp=exp.replace(' ','')\n",
    "\n",
    "    nums=[]\n",
    "    ops=[]\n",
    "\n",
    "    priority={'*':2,'/':2,'+':1,'-':1}\n",
    "\n",
    "    #执行运算的函数\n",
    "    def compute():\n",
    "        if len(nums)<2 or not ops:\n",
    "            return\n",
    "        \n",
    "        b=nums.pop()\n",
    "        a=nums.pop()\n",
    "        op=ops.pop()\n",
    "\n",
    "        if op=='+':\n",
    "            nums.append(a+b)\n",
    "        elif op=='-':\n",
    "            nums.append(a-b)\n",
    "        elif op=='*':\n",
    "            nums.append(a*b)\n",
    "        elif op=='/':\n",
    "            nums.append(int(a/b))\n",
    "\n",
    "    i=0\n",
    "    while i<len(exp):\n",
    "        if exp[i].isdigit():\n",
    "            num=0\n",
    "            while i<len(exp) and exp[i].isdigit():\n",
    "                num=num*10+int(exp[i])\n",
    "                i+=1\n",
    "            nums.append(num)\n",
    "        else:\n",
    "            while(ops and ops[-1] in priority and priority.get(exp[i],0)<=priority.get(ops[-1],0)):\n",
    "                compute()\n",
    "            ops.append(exp[i])\n",
    "            i+=1\n",
    "    while ops:\n",
    "        compute()\n",
    "    return nums[0] if nums else 0\n",
    "\n",
    "# 测试\n",
    "print(expression_evaluation(\"3+5*8-6\"))\n",
    "print(expression_evaluation(\"34+13*9+44-12/3\"))"
   ]
  },
  {
   "cell_type": "markdown",
   "metadata": {},
   "source": [
    "## 问题 4:  \n",
    "\n",
    "> 星球碰撞问题：现有n个星球，在同一条直线上运行，如数组A所示，元素的绝对值表示星球的质量，负数表示星球自右向左运动，正数表示星球自左向右运动，当两个星球相撞的时候，质量小的会消失，大的保持不变，**质量相同的两个星球碰撞后自右向左运动的星球消失，自左向右的星球保持不变**，假设所有星球的速度大小相同。\n",
    ">\n",
    "> $ A=[23,-8, 9, -3, -7, 9, -23, 22] $\n",
    "\n",
    "请设计一个算法模拟星球的运行情况，输出最终的星球存续情况（输出一个数组），分析算法设计思路，计算时间复杂度，并基于python编程实现。\n",
    "\n",
    "e.g.\n",
    "---\n",
    "1.  输入： A=[-3,-6,2,8, 5,-8,9,-2,1]， 输出：[-3, -6, 2, 8, 9, 1]\n",
    "\n",
    "2. 输入：A=[23,-8, 9, -3, -7, 9, -23, 22], 输出：[23, 22]\n",
    "\n"
   ]
  },
  {
   "cell_type": "markdown",
   "metadata": {},
   "source": [
    "### 算法设计思路\n",
    "这个问题可以使用栈来模拟星球运动与碰撞过程：\n",
    "1. 从左到右遍历数组\n",
    "2. 对于每颗星球，根据其运动方向分情况处理\n",
    "    - 如果星球向左运动（负数）或栈为空，则将其压入栈中\n",
    "    - 如果星球向右运动（正数），则需要检查是否会与栈中已有的星球发生碰撞\n",
    "3. 当一个向右移动的星球与向左移动的星球相邻时会发生碰撞：\n",
    "    - 如果两星球质量相同，则向左移动的星球消失\n",
    "    - 如果两星球质量不同，则质量较小星球消失\n",
    "\n",
    "### 时间复杂度分析\n",
    "每个星球最多入栈和出栈一次，因此时间复杂度为O(n)"
   ]
  },
  {
   "cell_type": "code",
   "execution_count": 10,
   "metadata": {},
   "outputs": [
    {
     "name": "stdout",
     "output_type": "stream",
     "text": [
      "[-3, -6, 2, 8, 9, 1]\n",
      "[23, 22]\n"
     ]
    }
   ],
   "source": [
    "# add your idea here\n",
    "# your algorithm time complexity is:O(n)\n",
    "\n",
    "def asteroid_collision(asteroids):\n",
    "    stack=[]\n",
    "    for asteroid in asteroids:\n",
    "        survive=True\n",
    "        while stack and asteroid<0 and stack[-1]>0:\n",
    "            if abs(stack[-1])>abs(asteroid):\n",
    "                survive=False\n",
    "                break\n",
    "            elif abs(stack[-1])==abs(asteroid):\n",
    "                survive=False\n",
    "                break\n",
    "            else:\n",
    "                stack.pop()\n",
    "        if survive:\n",
    "            stack.append(asteroid)\n",
    "    return stack\n",
    "\n",
    "print(asteroid_collision([-3, -6, 2, 8, 5, -8, 9, -2, 1]))\n",
    "print(asteroid_collision([23, -8, 9, -3, -7, 9, -23, 22]))"
   ]
  },
  {
   "cell_type": "markdown",
   "metadata": {},
   "source": [
    "## 问题 5 \n",
    "\n",
    "> 给定一个无序数组nums=[9,-3,-10,0,9,7,33]，请建立一个二叉搜索树存储数组中的所有元素，之后删除二叉树中的元素“0”，再使用中序遍历输出二叉搜索树中的所有元素。\n",
    "\n",
    "使用python编程完成上述任务，并计算时间复杂度\n"
   ]
  },
  {
   "cell_type": "markdown",
   "metadata": {},
   "source": [
    "### 算法设计思路\n",
    "对于二叉树的操作：\n",
    "1. 定义二叉搜索树的节点结构\n",
    "2. 实现向二叉搜索树中插入节点的功能\n",
    "3. 实现删除二叉搜索树中指定元素的功能\n",
    "4. 实现中序遍历二叉搜索树的功能\n",
    "\n",
    "### 时间复杂度分析\n",
    "1. 构建二叉搜索树：O(nlogn)\n",
    "2. 删除节点：O(logn)\n",
    "3. 中序遍历：O(n)\n",
    "总时间复杂度：O(nlogn)\n"
   ]
  },
  {
   "cell_type": "code",
   "execution_count": 11,
   "metadata": {},
   "outputs": [
    {
     "name": "stdout",
     "output_type": "stream",
     "text": [
      "[-10, -3, 7, 9, 33]\n"
     ]
    }
   ],
   "source": [
    "# add your idea here\n",
    "# your algorithm time complexity is:O(nlogn)\n",
    "\n",
    "class TreeNode:\n",
    "    def __init__(self,val=0,left=None,right=None):\n",
    "        self.val=val\n",
    "        self.left=left\n",
    "        self.right=right\n",
    "        \n",
    "def insert(root,val):\n",
    "    if not root:\n",
    "        return TreeNode(val)\n",
    "    if val<root.val:\n",
    "        root.left=insert(root.left,val)\n",
    "    elif val>root.val:\n",
    "        root.right=insert(root.right,val)\n",
    "    return root\n",
    "\n",
    "def find_min(root):\n",
    "    current=root\n",
    "    while current.left:\n",
    "        current=current.left\n",
    "    return current\n",
    "\n",
    "def delete(root,val):\n",
    "    if not root:\n",
    "        return root\n",
    "    if val<root.val:\n",
    "        root.left=delete(root.left,val)\n",
    "    elif val>root.val:\n",
    "        root.right=delete(root.right,val)\n",
    "    else:\n",
    "        if not root.left and not root.right:\n",
    "            return None\n",
    "        elif not root.left:\n",
    "            return root.right\n",
    "        elif not root.right:\n",
    "            return root.left\n",
    "        else:\n",
    "            temp=find_min(root.right)\n",
    "            root.val=temp.val\n",
    "            root.right=delete(root.right,temp.val)\n",
    "    return root\n",
    "\n",
    "def inorder_traversal(root,result=[]):\n",
    "    if root:\n",
    "        inorder_traversal(root.left,result)\n",
    "        result.append(root.val)\n",
    "        inorder_traversal(root.right,result)\n",
    "    return result\n",
    "\n",
    "\n",
    "def process(nums):\n",
    "    root=None\n",
    "    for num in nums:\n",
    "        root=insert(root,num)\n",
    "    \n",
    "    root=delete(root,0)\n",
    "    return inorder_traversal(root)\n",
    "\n",
    "nums=[9,-3,-10,0,9,7,33]\n",
    "print(process(nums))"
   ]
  },
  {
   "cell_type": "markdown",
   "metadata": {},
   "source": [
    "## 问题 6  \n",
    "\n",
    "> 给定一个包含大写字母和小写字母的字符串 s ，返回 字符串包含的 **最长的回文子串的长度** 。请注意 区分大小写 。比如 \"Aa\" 不能当做一个回文字符串。\n",
    ">\n",
    "\n",
    "请设计一个算法解决上述问题，只需要输出最长回文子串的长度，分析算法设计思路，计算时间复杂度，并基于python编程实现\n",
    "\n",
    "e.g. 输入： s=\"adccaccd\"，  输出：7。 最长回文子串为：\"dccaccd\", 长度为7\n"
   ]
  },
  {
   "cell_type": "markdown",
   "metadata": {},
   "source": [
    "idea："
   ]
  },
  {
   "cell_type": "markdown",
   "metadata": {},
   "source": [
    "### 算法设计思路\n",
    "可以使用中心扩展法：\n",
    "1. 遍历字符串的每个位置作为可能的回文中心\n",
    "2. 考虑两种回文情况：奇数长度和偶数长度\n",
    "3. 从每个中心向两边扩展，直到不再是回文\n",
    "4. 更新最长回文子串的长度\n",
    "\n",
    "### 时间复杂度分析\n",
    "- 每个位置最多被作为中心点一次，扩展的复杂度为O(n)\n",
    "- 总时间复杂度为O(n²)\n"
   ]
  },
  {
   "cell_type": "code",
   "execution_count": 12,
   "metadata": {},
   "outputs": [
    {
     "name": "stdout",
     "output_type": "stream",
     "text": [
      "7\n"
     ]
    }
   ],
   "source": [
    "# add your idea here\n",
    "# your algorithm time complexity is:O(n²)\n",
    "\n",
    "def longest_palindrome(s):\n",
    "    if not s:\n",
    "        return 0\n",
    "    \n",
    "    max_len=1\n",
    "\n",
    "    def expand_around_center(left,right):\n",
    "        while left>=0 and right<len(s) and s[left]==s[right]:\n",
    "            left-=1\n",
    "            right+=1\n",
    "        return right-left-1\n",
    "    \n",
    "    for i in range(len(s)):\n",
    "        len1=expand_around_center(i,i)\n",
    "        len2=expand_around_center(i,i+1)\n",
    "        max_len=max(max_len,max(len1,len2))\n",
    "    \n",
    "    return max_len\n",
    "\n",
    "print(longest_palindrome(\"adccaccd\"))"
   ]
  },
  {
   "cell_type": "markdown",
   "metadata": {},
   "source": [
    "## 问题 7 \n",
    "\n",
    "> 沿一条长河流分散着n座房子。你可以把这条河想象成一条轴，房子是由它们在这条轴上的坐标按顺序排列的。你的公司想在河边的特定地点设置手机基站，这样每户人家都在距离基站4公里的范围内。输入可以看作为一个升序数组，数组元素的取值为大于等于0的正整数，你需要输出最小基站的数目，基站的位置。\n",
    "\n",
    "1. 给出一个时间复杂度为$O(n$) 的算法，使所使用的基站数量最小化，分析算法设计思路，使用python编程实现\n",
    "2. 证明1.中算法产生了最优解决方案。\n",
    "\n",
    "e.g. \n",
    "\n",
    "输入： [1, 5, 12, 33, 34,35]  输出：基站数目为3， 基站位置为[1，12，33]\n",
    "\n"
   ]
  },
  {
   "cell_type": "markdown",
   "metadata": {},
   "source": [
    "idea："
   ]
  },
  {
   "cell_type": "markdown",
   "metadata": {},
   "source": [
    "### 算法设计思路\n",
    "对于这个问题，可以使用贪心算法：\n",
    "1. 从最左边的房子开始考虑\n",
    "2. 对于当前考虑的房子，放置一个基站在它+4的地方\n",
    "3. 这个基站可以覆盖从放置位置-4到+4的区域\n",
    "4. 跳过所有在这个基站覆盖范围内的房子\n",
    "5. 继续考虑下一个未被覆盖的房子\n",
    "6. 重复这个过程直到所有房子都被覆盖\n",
    "\n",
    "### 时间复杂度分析\n",
    "- 只需要遍历一次房子数组，所以时间复杂度为O(n)"
   ]
  },
  {
   "cell_type": "code",
   "execution_count": 16,
   "metadata": {},
   "outputs": [
    {
     "name": "stdout",
     "output_type": "stream",
     "text": [
      "基站数目为3,基站位置为[1, 12, 33]\n"
     ]
    }
   ],
   "source": [
    "# add your idea here\n",
    "# your algorithm time complexity is:O(n)\n",
    "\n",
    "def min_stations(houses):\n",
    "    if not houses:\n",
    "        return 0,[]\n",
    "    \n",
    "    n=len(houses)\n",
    "    stations=[]\n",
    "    i=0\n",
    "\n",
    "    while i<n:\n",
    "        station_pos=houses[i]\n",
    "        stations.append(station_pos)\n",
    "        while i<n and houses[i]<=station_pos+4:\n",
    "            i+=1\n",
    "    return len(stations),stations\n",
    "    \n",
    "count,stations=min_stations([1,5,12,33,34,35])\n",
    "print(f\"基站数目为{count},基站位置为{stations}\")"
   ]
  },
  {
   "cell_type": "markdown",
   "metadata": {},
   "source": [
    "### 证明1.中算法产生了最优解决方案\n",
    "1. 该算法总是在未覆盖的最左边房子位置放置基站\n",
    "2. 放置基站后，该基站可以覆盖所有距离它不超过4公里的房子\n",
    "3. 由于房子坐标是升序排列的，所以只需遍历一次数组即可确保所有房子都被覆盖\n",
    "4. 这种方法产生最优解是因为，每次都选择能覆盖最左边的未覆盖房子，从而最小化基站数量\n",
    "5. 其他贪心策略可能无法保证最优性，因为可能无法覆盖到最左边的未覆盖房子\n",
    "6. 因此，该算法产生了最优解决方案"
   ]
  },
  {
   "cell_type": "markdown",
   "metadata": {},
   "source": [
    "## 问题 8  \n",
    "\n",
    "> 给定由n个正整数组成的一个集合$S = \\{a_1, a_2，···，a_n\\}$和一个正整数W，设计一个算法确定是否存在S的一个子集 $K \\subseteq S$, 使K中所有数之和为 $W$, 如果存在返回“True”，否则返回“False”\n",
    "\n",
    "请设计一个时间复杂度为$O(nW)$动态规划算法，解决上述问题，分析算法的设计思路，并且基于python编程实现（不需要输出子集）。\n",
    "\n",
    "e.g. \n",
    "\n",
    "输入：S = {1,4,7,3,5}， W = 11，输出：True。   因为K可以是{4,7}。\n",
    "\n"
   ]
  },
  {
   "cell_type": "markdown",
   "metadata": {},
   "source": [
    "idea："
   ]
  },
  {
   "cell_type": "markdown",
   "metadata": {},
   "source": [
    "### 算法设计思路\n",
    "1. 定义一个二维数组`dp[i][j]`，表示是否能从前i个数中选出一些元素组成和为j的子集\n",
    "2. 对于每个元素a[i]，有两种选择：\n",
    "    - 如果不选a[i]，则`dp[i][j] = dp[i-1][j]`\n",
    "    - 如果选a[i]，则`dp[i][j] = dp[i-1][j-a[i]] + a[i]`\n",
    "3. 动态规划的边界条件：`dp[0][0] = True`\n",
    "4. 最终结果是`dp[n][W]`\n",
    "\n",
    "### 时间复杂度分析\n",
    "- 需要填充一个n(W+1)的表格\n",
    "- 每个单元格需要O(1)时间\n",
    "- 总时间复杂度：O(nW)"
   ]
  },
  {
   "cell_type": "code",
   "execution_count": 17,
   "metadata": {},
   "outputs": [
    {
     "name": "stdout",
     "output_type": "stream",
     "text": [
      "True\n"
     ]
    }
   ],
   "source": [
    "# add your idea here\n",
    "# your algorithm time complexity is: O(nW)\n",
    "\n",
    "def find_subset_sum(S, W):\n",
    "    n = len(S)\n",
    "    dp = [[False for _ in range(W + 1)] for _ in range(n + 1)]\n",
    "    \n",
    "    for i in range(n + 1):\n",
    "        dp[i][0] = True\n",
    "    \n",
    "    for i in range(1, n + 1):\n",
    "        for j in range(1, W + 1):\n",
    "            dp[i][j] = dp[i-1][j]\n",
    "            if j >= S[i-1]:\n",
    "                dp[i][j] = dp[i][j] or dp[i-1][j-S[i-1]]\n",
    "    \n",
    "    return dp[n][W]\n",
    "\n",
    "print(find_subset_sum([1,4,7,3,5], 11))"
   ]
  },
  {
   "cell_type": "markdown",
   "metadata": {},
   "source": [
    "\n",
    "\n",
    "## 问题 9 \n",
    "\n",
    "> 给定一个n个物品的集合。物体的重量为$w_1, w_2，…、w_n$，物品的价值分别是$v_1、v_2、…v_n$。给你**两个**重量为 $c$ 的背包。如果你带了一个东西，它可以放在一个背包里，也可以放在另一个背包里，但不能同时放在两个背包里。所有权重和价值都是正整数。\n",
    "\n",
    "1. 设计一个时间复杂度为 $O(nc^2)$ 的动态规划算法，确定可以放入两个背包的物体的最大价值。分析算法设计思路，并基于python编程实现\n",
    "2. \\* 修改1中的算法，输出每个背包的内容（物品对应下标）。\n",
    "\n",
    "e.g.: \n",
    "\n",
    "输入 V=[1,3,2,5,8,7], W=[1,3,2,5,8,7], c=7, 输出：最大价值=14，背包装的物品为：[6] [4，3] （同一个背包中物品装入顺序对结果无影响）  \n"
   ]
  },
  {
   "cell_type": "markdown",
   "metadata": {},
   "source": [
    "idea："
   ]
  },
  {
   "cell_type": "markdown",
   "metadata": {},
   "source": [
    "### 算法设计思路\n",
    "可以使用三维动态规划：\n",
    "1. 定义一个三位数组`dp[i][j][k]`，表示前i个物品中，第一个背包装j重量时，第二个背包装k重量的最大价值\n",
    "2. 对于每个物品，有三种选择：\n",
    "    - 不放入背包\n",
    "    - 放入第一个背包\n",
    "    - 放入第二个背包\n",
    "3. 状态转移方程：\n",
    "    - 不放入背包：`dp[i][j][k] = dp[i-1][j][k]`\n",
    "    - 放入第一个背包：`dp[i][j][k] = dp[i-1][j-w[i-1]][k] + v[i-1]`\n",
    "    - 放入第二个背包：`dp[i][j][k] = dp[i-1][j][k-w[i-1]] + v[i-1]`\n",
    "\n",
    "### 时间复杂度分析\n",
    "- 需要填充一个n(c+1)(c+1)的表格\n",
    "- 每个单元格需要O(1)时间\n",
    "- 总时间复杂度：O(nc²)"
   ]
  },
  {
   "cell_type": "code",
   "execution_count": 19,
   "metadata": {},
   "outputs": [
    {
     "name": "stdout",
     "output_type": "stream",
     "text": [
      "最大价值为14, 背包装的物品为：[6] [4, 3]\n"
     ]
    }
   ],
   "source": [
    "# add your idea here\n",
    "# your algorithm time complexity is: O(nc²)\n",
    "\n",
    "def two_knapsack(V, W, c):\n",
    "    n = len(V)\n",
    "    dp = [[[0 for _ in range(c+1)] for _ in range(c+1)] for _ in range(n+1)]\n",
    "\n",
    "    trace = [[[0 for _ in range(c+1)] for _ in range(c+1)] for _ in range(n+1)]\n",
    "    \n",
    "    for i in range(1, n+1):\n",
    "        for j in range(c+1):\n",
    "            for k in range(c+1):\n",
    "                #不放入背包\n",
    "                dp[i][j][k] = dp[i-1][j][k]\n",
    "                trace[i][j][k] = 0\n",
    "\n",
    "                #放入第一个背包\n",
    "                if j >= W[i-1] and dp[i-1][j-W[i-1]][k] + V[i-1] > dp[i][j][k]:\n",
    "                    dp[i][j][k] = dp[i-1][j-W[i-1]][k] + V[i-1]\n",
    "                    trace[i][j][k] = 1\n",
    "\n",
    "                #放入第二个背包\n",
    "                if k >= W[i-1] and dp[i-1][j][k-W[i-1]] + V[i-1] > dp[i][j][k]:\n",
    "                    dp[i][j][k] = dp[i-1][j][k-W[i-1]] + V[i-1]\n",
    "                    trace[i][j][k] = 2\n",
    "\n",
    "    #回溯找到具体物品\n",
    "    max_value = dp[n][c][c]\n",
    "    bag1 = []\n",
    "    bag2 = []\n",
    "    i=n\n",
    "    j = c\n",
    "    k = c\n",
    "    \n",
    "    while i>0:\n",
    "        if trace[i][j][k] == 1:\n",
    "            bag1.append(i)\n",
    "            j -= W[i-1]\n",
    "        elif trace[i][j][k] == 2:\n",
    "            bag2.append(i)\n",
    "            k-=W[i-1]\n",
    "        i-=1\n",
    "\n",
    "    return max_value, bag1,bag2\n",
    "\n",
    "v=[1,3,2,5,8,7] \n",
    "w=[1,3,2,5,8,7]\n",
    "c=7\n",
    "\n",
    "max_value, bag1, bag2 = two_knapsack(v,w,c)\n",
    "\n",
    "print(f\"最大价值为{max_value}, 背包装的物品为：{bag1} {bag2}\")\n"
   ]
  },
  {
   "cell_type": "markdown",
   "metadata": {},
   "source": [
    "## 问题 10 \n",
    "\n",
    "> 给定两个字符串 $x[1..n]$ 和 $y[1..m]$，我们想通过以下操作将 $x$ 变换为 $y$ :\n",
    ">\n",
    "> **插入**：在 $x$ 中插入一个字符(在任何位置)；**删除**：从 $x$ 中删除一个字符(在任何位置)； **替换**：用另一个字符替换 $x$ 中的一个字符。\n",
    ">\n",
    "> 例如: $x = abcd$, $y = bcfe$，\n",
    ">\n",
    "> - 将 $x$ 转换为 $y$ 的一种可能方法是：1. 删除 $x$ 开头的 $a$, $x$变成 $bcd$； 2. 将 $x$ 中的字符 $d$ 替换为字符 $f$。$x$ 变成 $bcf$； 3. 在 $x$ 的末尾插入字符 $e$。$x$ 变成 $bcfe$。\n",
    ">\n",
    "> - 另一种可能的方法：1. 删除 $x$ 开头的 $a$,  $x$ 变成 $bcd$； 2. 在 $x$ 中字符 $d$ 之前插入字符 $f$。$x$ 变成 $bcfd$。3. 将 $x$ 中的字符 $d$ 替换为字符 $e$。$x$ 变成 $bcfe$。\n",
    "\n",
    "设计一个时间复杂度为 $O(mn)$ 的算法，返回将 $x$ 转换为 $y$ 所需的最少操作次数。分析算法设计思路，并基于python编程实现。\n"
   ]
  },
  {
   "cell_type": "markdown",
   "metadata": {},
   "source": [
    "idea："
   ]
  },
  {
   "cell_type": "markdown",
   "metadata": {},
   "source": [
    "### 算法设计思路\n",
    "可以使用动态规划来解决：\n",
    "1. 创建一个二维数组`dp[i][j]`，表示将x的前i个字符转换为y的前j个字符所需的最少操作次数\n",
    "2. 初始化边界条件：\n",
    "    - `dp[0][0] = 0`\n",
    "    - `dp[i][0] = i` (将x的前i个字符转换为空字符串需要i次删除)\n",
    "    - `dp[0][j] = j` (将空字符串转换为y的前j个字符需要j次插入)\n",
    "3. 对于一般情况的`dp[i][j]`，考虑三种可能的操作：\n",
    "    - 插入：`dp[i][j] = dp[i][j-1] + 1`\n",
    "    - 删除：`dp[i][j] = dp[i-1][j] + 1`\n",
    "    - 替换或不操作：`dp[i][j] = dp[i-1][j-1] + (0 if x[i-1] == y[j-1] else 1)`\n",
    "\n",
    "\n",
    "### 时间复杂度分析\n",
    "- 需要填充一个m(n+1)的表格\n",
    "- 每个单元格需要O(1)时间\n",
    "- 总时间复杂度：O(mn)"
   ]
  },
  {
   "cell_type": "code",
   "execution_count": 20,
   "metadata": {},
   "outputs": [
    {
     "name": "stdout",
     "output_type": "stream",
     "text": [
      "3\n"
     ]
    }
   ],
   "source": [
    "# add your idea here\n",
    "# your algorithm time complexity is: O(mn)\n",
    "\n",
    "def min_operations(x, y):\n",
    "    n = len(x)\n",
    "    m = len(y)\n",
    "    dp = [[0 for _ in range(m+1)] for _ in range(n+1)]\n",
    "    \n",
    "    for i in range(n+1):\n",
    "        dp[i][0] = i\n",
    "    for j in range(m+1):\n",
    "        dp[0][j] = j\n",
    "        \n",
    "    for i in range(1, n+1):\n",
    "        for j in range(1, m+1):\n",
    "            if x[i-1] == y[j-1]:\n",
    "                dp[i][j] = dp[i-1][j-1]\n",
    "            else:\n",
    "                dp[i][j] = min(dp[i-1][j], dp[i][j-1], dp[i-1][j-1]) + 1\n",
    "                \n",
    "    return dp[n][m]\n",
    "\n",
    "print(min_operations(\"abcd\", \"bcfe\"))"
   ]
  }
 ],
 "metadata": {
  "kernelspec": {
   "display_name": ".venv",
   "language": "python",
   "name": "python3"
  },
  "language_info": {
   "codemirror_mode": {
    "name": "ipython",
    "version": 3
   },
   "file_extension": ".py",
   "mimetype": "text/x-python",
   "name": "python",
   "nbconvert_exporter": "python",
   "pygments_lexer": "ipython3",
   "version": "3.13.2"
  }
 },
 "nbformat": 4,
 "nbformat_minor": 2
}
